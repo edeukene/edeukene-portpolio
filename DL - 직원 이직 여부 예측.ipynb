{
 "cells": [
  {
   "cell_type": "markdown",
   "metadata": {
    "id": "5mCUrZ5seRFB"
   },
   "source": [
    "# 직원 이직 여부 예측\n",
    "![](https://github.com/Jangrae/img/blob/master/employee.png?raw=true)\n",
    "\n",
    "## 데이터 정보\n",
    "- Attrition: 이직여부 (1-Yes 0-No)\t\n",
    "- Age: 나이\t\n",
    "- BusinessTravel: 출장 빈도\n",
    "- Department: 현재 부서\t\n",
    "- DistanceFromHome: 집과 직장 사이의 거리 (마일)\t\n",
    "- Education: 교육수준 (1-Below College 2-College 3-Bachelor 4- Master 5-Doctor)\n",
    "- EducationField: 전공\t\n",
    "- EmployeeNumber: 사번\t\n",
    "- EnvironmentSatisfaction: 근무환경에 대한 만족도 (1-Low 2-Good 3-Excellent 4-Outstanding)\n",
    "- Gender: 성별\t\n",
    "- JobInvolvement: 직무 적극성, 참여도 (1-Low 2-Medium 3-High 4-Very High)\n",
    "- JobRole: 직무\t\n",
    "- JobSatisfaction: 직무 만족도 (1-Low 2-Medium 3-High 4-Very High)\n",
    "- MaritalStatus: 결혼상태\t\n",
    "- MonthlyIncome: 월급\t\n",
    "- NumCompaniesWorked: 현재까지 근무한 회사 수\t\n",
    "- OverTime: 야근 여부\t\n",
    "- PercentSalaryHike: 전년대비 급여 인상율 (%)\t\n",
    "- RelationshipSatisfaction: 동료와의 관계 만족도 (1-Low 2-Medium 3-High 4-Very High)\n",
    "- StockOptionLevel: 스톡옵션 수준 (0 ~ 3)\t\n",
    "- TotalWorkingYears: 총 근무 연수\t\n",
    "- TrainingTimesLastYear: 전년 교육훈련 횟수\t\n",
    "- WorkLifeBalance: 워라밸, 일과 삶의 균형도 (1-Bad 2-Good 3-Better 4-Best)\n",
    "- YearsAtCompany: 현 직장 근무 연수\t\n",
    "- YearsInCurrentRole: 현 직무 연수\t\n",
    "- YearsWithCurrManager: 현 팀장과 근무한 연수"
   ]
  },
  {
   "cell_type": "markdown",
   "metadata": {
    "id": "3Ij5l9O9e_KO"
   },
   "source": [
    "## 데이터셋 불러오기"
   ]
  },
  {
   "cell_type": "code",
   "execution_count": 1,
   "metadata": {
    "id": "eq2ArI8peRBh"
   },
   "outputs": [],
   "source": [
    "import numpy as np\n",
    "import pandas as pd\n",
    "import matplotlib.pyplot as plt\n",
    "import seaborn as sns\n",
    "import warnings"
   ]
  },
  {
   "cell_type": "code",
   "execution_count": 2,
   "metadata": {
    "id": "Rg3T7vmTfJFi"
   },
   "outputs": [],
   "source": [
    "path = 'https://raw.githubusercontent.com/Jangrae/csv/master/Attrition_NA.CSV'\n",
    "\n",
    "data = pd.read_csv(path)\n",
    "# 값 변경: Yes/No --> 1/0\n",
    "data['Attrition'] = data['Attrition'].map({'Yes': 1, 'No': 0})"
   ]
  },
  {
   "cell_type": "code",
   "execution_count": 3,
   "metadata": {},
   "outputs": [],
   "source": [
    "target = 'Attrition'"
   ]
  },
  {
   "cell_type": "code",
   "execution_count": 4,
   "metadata": {},
   "outputs": [
    {
     "data": {
      "text/plain": [
       "0       0\n",
       "1       0\n",
       "2       0\n",
       "3       0\n",
       "4       0\n",
       "       ..\n",
       "1245    0\n",
       "1246    0\n",
       "1247    0\n",
       "1248    0\n",
       "1249    0\n",
       "Name: Attrition, Length: 1250, dtype: int64"
      ]
     },
     "execution_count": 4,
     "metadata": {},
     "output_type": "execute_result"
    }
   ],
   "source": [
    "data[target]"
   ]
  },
  {
   "cell_type": "markdown",
   "metadata": {
    "id": "7JgnHZVKeQ-i"
   },
   "source": [
    "## 데이터 전처리\n",
    "\n",
    "* 주석을 상세하게 작성해주세요\n",
    "\n",
    "<details><summary>Hint</summary>\n",
    "\n",
    "- x, y 구분 필요\n",
    "- train, test 구분 필요\n",
    "- 데이터 타입 전처리 필요\n",
    "- 데이터 인코딩 필요\n",
    "- null값 확인 필요"
   ]
  },
  {
   "cell_type": "code",
   "execution_count": 5,
   "metadata": {},
   "outputs": [
    {
     "name": "stdout",
     "output_type": "stream",
     "text": [
      "<class 'pandas.core.frame.DataFrame'>\n",
      "RangeIndex: 1250 entries, 0 to 1249\n",
      "Data columns (total 26 columns):\n",
      " #   Column                    Non-Null Count  Dtype  \n",
      "---  ------                    --------------  -----  \n",
      " 0   Attrition                 1250 non-null   int64  \n",
      " 1   Age                       1250 non-null   int64  \n",
      " 2   BusinessTravel            1250 non-null   object \n",
      " 3   Department                1250 non-null   object \n",
      " 4   DistanceFromHome          1196 non-null   float64\n",
      " 5   Education                 1250 non-null   int64  \n",
      " 6   EducationField            1250 non-null   object \n",
      " 7   EmployeeNumber            1250 non-null   int64  \n",
      " 8   EnvironmentSatisfaction   1250 non-null   int64  \n",
      " 9   Gender                    1250 non-null   object \n",
      " 10  JobInvolvement            1250 non-null   int64  \n",
      " 11  JobRole                   1250 non-null   object \n",
      " 12  JobSatisfaction           1250 non-null   int64  \n",
      " 13  MaritalStatus             1250 non-null   object \n",
      " 14  MonthlyIncome             1250 non-null   int64  \n",
      " 15  NumCompaniesWorked        1229 non-null   float64\n",
      " 16  OverTime                  1250 non-null   object \n",
      " 17  PercentSalaryHike         1250 non-null   int64  \n",
      " 18  RelationshipSatisfaction  1250 non-null   int64  \n",
      " 19  StockOptionLevel          1250 non-null   int64  \n",
      " 20  TotalWorkingYears         1250 non-null   int64  \n",
      " 21  TrainingTimesLastYear     1250 non-null   int64  \n",
      " 22  WorkLifeBalance           1250 non-null   int64  \n",
      " 23  YearsAtCompany            1250 non-null   int64  \n",
      " 24  YearsInCurrentRole        1250 non-null   int64  \n",
      " 25  YearsWithCurrManager      1250 non-null   int64  \n",
      "dtypes: float64(2), int64(17), object(7)\n",
      "memory usage: 254.0+ KB\n"
     ]
    }
   ],
   "source": [
    "# 컬럼 확인 및 결측치 확인.\n",
    "data.info()"
   ]
  },
  {
   "cell_type": "code",
   "execution_count": 6,
   "metadata": {},
   "outputs": [
    {
     "data": {
      "image/png": "[encoded data removed]",
      "text/plain": [
       "<Figure size 1080x576 with 2 Axes>"
      ]
     },
     "metadata": {
      "needs_background": "light"
     },
     "output_type": "display_data"
    }
   ],
   "source": [
    "# 상관관계 시각화.\n",
    "plt.figure(figsize=(15, 8))\n",
    "sns.heatmap(data = data.corr(), annot=True, \n",
    "fmt = '.2f', linewidths=.5, cmap='Blues')\n",
    "plt.show()"
   ]
  },
  {
   "cell_type": "code",
   "execution_count": 7,
   "metadata": {
    "scrolled": true
   },
   "outputs": [
    {
     "data": {
      "image/png": "[encoded data removed]",
      "text/plain": [
       "<Figure size 432x288 with 1 Axes>"
      ]
     },
     "metadata": {
      "needs_background": "light"
     },
     "output_type": "display_data"
    }
   ],
   "source": [
    "# 이직자, 비 이직자 수 시각화.\n",
    "sns.countplot(data=data, x=target)\n",
    "plt.show()"
   ]
  },
  {
   "cell_type": "code",
   "execution_count": 8,
   "metadata": {},
   "outputs": [],
   "source": [
    "# x, y 구분\n",
    "x = data.drop(target,axis=1)\n",
    "y = data[target]"
   ]
  },
  {
   "cell_type": "code",
   "execution_count": 9,
   "metadata": {},
   "outputs": [
    {
     "data": {
      "text/plain": [
       "((1250, 25), (1250,))"
      ]
     },
     "execution_count": 9,
     "metadata": {},
     "output_type": "execute_result"
    }
   ],
   "source": [
    "x.shape, y.shape"
   ]
  },
  {
   "cell_type": "markdown",
   "metadata": {},
   "source": [
    "# 사용하지 않을 변수 드랍."
   ]
  },
  {
   "cell_type": "markdown",
   "metadata": {},
   "source": [
    "### Locally connected layer를 구성하기 위한 feature 설정이후 남는 변수들 드랍."
   ]
  },
  {
   "cell_type": "code",
   "execution_count": 10,
   "metadata": {},
   "outputs": [
    {
     "data": {
      "text/html": [
       "<div>\n",
       "<style scoped>\n",
       "    .dataframe tbody tr th:only-of-type {\n",
       "        vertical-align: middle;\n",
       "    }\n",
       "\n",
       "    .dataframe tbody tr th {\n",
       "        vertical-align: top;\n",
       "    }\n",
       "\n",
       "    .dataframe thead th {\n",
       "        text-align: right;\n",
       "    }\n",
       "</style>\n",
       "<table border=\"1\" class=\"dataframe\">\n",
       "  <thead>\n",
       "    <tr style=\"text-align: right;\">\n",
       "      <th></th>\n",
       "      <th>Age</th>\n",
       "      <th>BusinessTravel</th>\n",
       "      <th>Department</th>\n",
       "      <th>Education</th>\n",
       "      <th>EducationField</th>\n",
       "      <th>EnvironmentSatisfaction</th>\n",
       "      <th>Gender</th>\n",
       "      <th>JobInvolvement</th>\n",
       "      <th>JobRole</th>\n",
       "      <th>JobSatisfaction</th>\n",
       "      <th>...</th>\n",
       "      <th>MonthlyIncome</th>\n",
       "      <th>OverTime</th>\n",
       "      <th>PercentSalaryHike</th>\n",
       "      <th>RelationshipSatisfaction</th>\n",
       "      <th>TotalWorkingYears</th>\n",
       "      <th>TrainingTimesLastYear</th>\n",
       "      <th>WorkLifeBalance</th>\n",
       "      <th>YearsAtCompany</th>\n",
       "      <th>YearsInCurrentRole</th>\n",
       "      <th>YearsWithCurrManager</th>\n",
       "    </tr>\n",
       "  </thead>\n",
       "  <tbody>\n",
       "    <tr>\n",
       "      <th>0</th>\n",
       "      <td>33</td>\n",
       "      <td>Travel_Rarely</td>\n",
       "      <td>Research &amp; Development</td>\n",
       "      <td>3</td>\n",
       "      <td>Medical</td>\n",
       "      <td>3</td>\n",
       "      <td>Male</td>\n",
       "      <td>3</td>\n",
       "      <td>Research Director</td>\n",
       "      <td>3</td>\n",
       "      <td>...</td>\n",
       "      <td>11691</td>\n",
       "      <td>No</td>\n",
       "      <td>11</td>\n",
       "      <td>4</td>\n",
       "      <td>14</td>\n",
       "      <td>3</td>\n",
       "      <td>4</td>\n",
       "      <td>13</td>\n",
       "      <td>9</td>\n",
       "      <td>7</td>\n",
       "    </tr>\n",
       "    <tr>\n",
       "      <th>1</th>\n",
       "      <td>35</td>\n",
       "      <td>Travel_Frequently</td>\n",
       "      <td>Research &amp; Development</td>\n",
       "      <td>2</td>\n",
       "      <td>Life Sciences</td>\n",
       "      <td>3</td>\n",
       "      <td>Male</td>\n",
       "      <td>3</td>\n",
       "      <td>Manufacturing Director</td>\n",
       "      <td>4</td>\n",
       "      <td>...</td>\n",
       "      <td>9362</td>\n",
       "      <td>No</td>\n",
       "      <td>11</td>\n",
       "      <td>3</td>\n",
       "      <td>10</td>\n",
       "      <td>2</td>\n",
       "      <td>3</td>\n",
       "      <td>2</td>\n",
       "      <td>2</td>\n",
       "      <td>2</td>\n",
       "    </tr>\n",
       "    <tr>\n",
       "      <th>2</th>\n",
       "      <td>42</td>\n",
       "      <td>Travel_Rarely</td>\n",
       "      <td>Research &amp; Development</td>\n",
       "      <td>3</td>\n",
       "      <td>Medical</td>\n",
       "      <td>3</td>\n",
       "      <td>Male</td>\n",
       "      <td>3</td>\n",
       "      <td>Research Director</td>\n",
       "      <td>1</td>\n",
       "      <td>...</td>\n",
       "      <td>13348</td>\n",
       "      <td>No</td>\n",
       "      <td>13</td>\n",
       "      <td>2</td>\n",
       "      <td>18</td>\n",
       "      <td>3</td>\n",
       "      <td>4</td>\n",
       "      <td>13</td>\n",
       "      <td>7</td>\n",
       "      <td>7</td>\n",
       "    </tr>\n",
       "    <tr>\n",
       "      <th>3</th>\n",
       "      <td>46</td>\n",
       "      <td>Travel_Rarely</td>\n",
       "      <td>Sales</td>\n",
       "      <td>3</td>\n",
       "      <td>Marketing</td>\n",
       "      <td>3</td>\n",
       "      <td>Female</td>\n",
       "      <td>3</td>\n",
       "      <td>Manager</td>\n",
       "      <td>1</td>\n",
       "      <td>...</td>\n",
       "      <td>17048</td>\n",
       "      <td>No</td>\n",
       "      <td>23</td>\n",
       "      <td>1</td>\n",
       "      <td>28</td>\n",
       "      <td>2</td>\n",
       "      <td>3</td>\n",
       "      <td>26</td>\n",
       "      <td>15</td>\n",
       "      <td>9</td>\n",
       "    </tr>\n",
       "    <tr>\n",
       "      <th>4</th>\n",
       "      <td>39</td>\n",
       "      <td>Travel_Frequently</td>\n",
       "      <td>Sales</td>\n",
       "      <td>3</td>\n",
       "      <td>Life Sciences</td>\n",
       "      <td>3</td>\n",
       "      <td>Male</td>\n",
       "      <td>3</td>\n",
       "      <td>Sales Executive</td>\n",
       "      <td>4</td>\n",
       "      <td>...</td>\n",
       "      <td>4127</td>\n",
       "      <td>No</td>\n",
       "      <td>18</td>\n",
       "      <td>4</td>\n",
       "      <td>7</td>\n",
       "      <td>6</td>\n",
       "      <td>3</td>\n",
       "      <td>2</td>\n",
       "      <td>1</td>\n",
       "      <td>2</td>\n",
       "    </tr>\n",
       "    <tr>\n",
       "      <th>...</th>\n",
       "      <td>...</td>\n",
       "      <td>...</td>\n",
       "      <td>...</td>\n",
       "      <td>...</td>\n",
       "      <td>...</td>\n",
       "      <td>...</td>\n",
       "      <td>...</td>\n",
       "      <td>...</td>\n",
       "      <td>...</td>\n",
       "      <td>...</td>\n",
       "      <td>...</td>\n",
       "      <td>...</td>\n",
       "      <td>...</td>\n",
       "      <td>...</td>\n",
       "      <td>...</td>\n",
       "      <td>...</td>\n",
       "      <td>...</td>\n",
       "      <td>...</td>\n",
       "      <td>...</td>\n",
       "      <td>...</td>\n",
       "      <td>...</td>\n",
       "    </tr>\n",
       "    <tr>\n",
       "      <th>1245</th>\n",
       "      <td>27</td>\n",
       "      <td>Travel_Rarely</td>\n",
       "      <td>Research &amp; Development</td>\n",
       "      <td>3</td>\n",
       "      <td>Other</td>\n",
       "      <td>4</td>\n",
       "      <td>Male</td>\n",
       "      <td>2</td>\n",
       "      <td>Laboratory Technician</td>\n",
       "      <td>1</td>\n",
       "      <td>...</td>\n",
       "      <td>4066</td>\n",
       "      <td>No</td>\n",
       "      <td>11</td>\n",
       "      <td>1</td>\n",
       "      <td>7</td>\n",
       "      <td>3</td>\n",
       "      <td>3</td>\n",
       "      <td>7</td>\n",
       "      <td>7</td>\n",
       "      <td>7</td>\n",
       "    </tr>\n",
       "    <tr>\n",
       "      <th>1246</th>\n",
       "      <td>29</td>\n",
       "      <td>Travel_Rarely</td>\n",
       "      <td>Research &amp; Development</td>\n",
       "      <td>3</td>\n",
       "      <td>Life Sciences</td>\n",
       "      <td>3</td>\n",
       "      <td>Male</td>\n",
       "      <td>4</td>\n",
       "      <td>Research Scientist</td>\n",
       "      <td>3</td>\n",
       "      <td>...</td>\n",
       "      <td>2451</td>\n",
       "      <td>No</td>\n",
       "      <td>18</td>\n",
       "      <td>1</td>\n",
       "      <td>5</td>\n",
       "      <td>2</td>\n",
       "      <td>2</td>\n",
       "      <td>1</td>\n",
       "      <td>0</td>\n",
       "      <td>0</td>\n",
       "    </tr>\n",
       "    <tr>\n",
       "      <th>1247</th>\n",
       "      <td>29</td>\n",
       "      <td>Non-Travel</td>\n",
       "      <td>Sales</td>\n",
       "      <td>3</td>\n",
       "      <td>Life Sciences</td>\n",
       "      <td>4</td>\n",
       "      <td>Male</td>\n",
       "      <td>3</td>\n",
       "      <td>Sales Executive</td>\n",
       "      <td>3</td>\n",
       "      <td>...</td>\n",
       "      <td>4649</td>\n",
       "      <td>No</td>\n",
       "      <td>14</td>\n",
       "      <td>1</td>\n",
       "      <td>4</td>\n",
       "      <td>3</td>\n",
       "      <td>2</td>\n",
       "      <td>4</td>\n",
       "      <td>3</td>\n",
       "      <td>2</td>\n",
       "    </tr>\n",
       "    <tr>\n",
       "      <th>1248</th>\n",
       "      <td>43</td>\n",
       "      <td>Travel_Rarely</td>\n",
       "      <td>Sales</td>\n",
       "      <td>3</td>\n",
       "      <td>Marketing</td>\n",
       "      <td>4</td>\n",
       "      <td>Female</td>\n",
       "      <td>3</td>\n",
       "      <td>Manager</td>\n",
       "      <td>4</td>\n",
       "      <td>...</td>\n",
       "      <td>16064</td>\n",
       "      <td>Yes</td>\n",
       "      <td>22</td>\n",
       "      <td>3</td>\n",
       "      <td>22</td>\n",
       "      <td>3</td>\n",
       "      <td>3</td>\n",
       "      <td>17</td>\n",
       "      <td>13</td>\n",
       "      <td>9</td>\n",
       "    </tr>\n",
       "    <tr>\n",
       "      <th>1249</th>\n",
       "      <td>26</td>\n",
       "      <td>Travel_Rarely</td>\n",
       "      <td>Research &amp; Development</td>\n",
       "      <td>4</td>\n",
       "      <td>Medical</td>\n",
       "      <td>1</td>\n",
       "      <td>Male</td>\n",
       "      <td>4</td>\n",
       "      <td>Laboratory Technician</td>\n",
       "      <td>4</td>\n",
       "      <td>...</td>\n",
       "      <td>4420</td>\n",
       "      <td>No</td>\n",
       "      <td>22</td>\n",
       "      <td>2</td>\n",
       "      <td>8</td>\n",
       "      <td>2</td>\n",
       "      <td>3</td>\n",
       "      <td>8</td>\n",
       "      <td>7</td>\n",
       "      <td>7</td>\n",
       "    </tr>\n",
       "  </tbody>\n",
       "</table>\n",
       "<p>1250 rows × 21 columns</p>\n",
       "</div>"
      ],
      "text/plain": [
       "      Age     BusinessTravel              Department  Education  \\\n",
       "0      33      Travel_Rarely  Research & Development          3   \n",
       "1      35  Travel_Frequently  Research & Development          2   \n",
       "2      42      Travel_Rarely  Research & Development          3   \n",
       "3      46      Travel_Rarely                   Sales          3   \n",
       "4      39  Travel_Frequently                   Sales          3   \n",
       "...   ...                ...                     ...        ...   \n",
       "1245   27      Travel_Rarely  Research & Development          3   \n",
       "1246   29      Travel_Rarely  Research & Development          3   \n",
       "1247   29         Non-Travel                   Sales          3   \n",
       "1248   43      Travel_Rarely                   Sales          3   \n",
       "1249   26      Travel_Rarely  Research & Development          4   \n",
       "\n",
       "     EducationField  EnvironmentSatisfaction  Gender  JobInvolvement  \\\n",
       "0           Medical                        3    Male               3   \n",
       "1     Life Sciences                        3    Male               3   \n",
       "2           Medical                        3    Male               3   \n",
       "3         Marketing                        3  Female               3   \n",
       "4     Life Sciences                        3    Male               3   \n",
       "...             ...                      ...     ...             ...   \n",
       "1245          Other                        4    Male               2   \n",
       "1246  Life Sciences                        3    Male               4   \n",
       "1247  Life Sciences                        4    Male               3   \n",
       "1248      Marketing                        4  Female               3   \n",
       "1249        Medical                        1    Male               4   \n",
       "\n",
       "                     JobRole  JobSatisfaction  ... MonthlyIncome  OverTime  \\\n",
       "0          Research Director                3  ...         11691        No   \n",
       "1     Manufacturing Director                4  ...          9362        No   \n",
       "2          Research Director                1  ...         13348        No   \n",
       "3                    Manager                1  ...         17048        No   \n",
       "4            Sales Executive                4  ...          4127        No   \n",
       "...                      ...              ...  ...           ...       ...   \n",
       "1245   Laboratory Technician                1  ...          4066        No   \n",
       "1246      Research Scientist                3  ...          2451        No   \n",
       "1247         Sales Executive                3  ...          4649        No   \n",
       "1248                 Manager                4  ...         16064       Yes   \n",
       "1249   Laboratory Technician                4  ...          4420        No   \n",
       "\n",
       "     PercentSalaryHike  RelationshipSatisfaction  TotalWorkingYears  \\\n",
       "0                   11                         4                 14   \n",
       "1                   11                         3                 10   \n",
       "2                   13                         2                 18   \n",
       "3                   23                         1                 28   \n",
       "4                   18                         4                  7   \n",
       "...                ...                       ...                ...   \n",
       "1245                11                         1                  7   \n",
       "1246                18                         1                  5   \n",
       "1247                14                         1                  4   \n",
       "1248                22                         3                 22   \n",
       "1249                22                         2                  8   \n",
       "\n",
       "      TrainingTimesLastYear  WorkLifeBalance  YearsAtCompany  \\\n",
       "0                         3                4              13   \n",
       "1                         2                3               2   \n",
       "2                         3                4              13   \n",
       "3                         2                3              26   \n",
       "4                         6                3               2   \n",
       "...                     ...              ...             ...   \n",
       "1245                      3                3               7   \n",
       "1246                      2                2               1   \n",
       "1247                      3                2               4   \n",
       "1248                      3                3              17   \n",
       "1249                      2                3               8   \n",
       "\n",
       "      YearsInCurrentRole  YearsWithCurrManager  \n",
       "0                      9                     7  \n",
       "1                      2                     2  \n",
       "2                      7                     7  \n",
       "3                     15                     9  \n",
       "4                      1                     2  \n",
       "...                  ...                   ...  \n",
       "1245                   7                     7  \n",
       "1246                   0                     0  \n",
       "1247                   3                     2  \n",
       "1248                  13                     9  \n",
       "1249                   7                     7  \n",
       "\n",
       "[1250 rows x 21 columns]"
      ]
     },
     "execution_count": 10,
     "metadata": {},
     "output_type": "execute_result"
    }
   ],
   "source": [
    "x.drop(['DistanceFromHome','EmployeeNumber','NumCompaniesWorked',\n",
    "       'StockOptionLevel'],axis=1,inplace=True)\n",
    "x"
   ]
  },
  {
   "cell_type": "markdown",
   "metadata": {},
   "source": [
    "EmployeeNumber(사번) - 말 그대로 자기에게 부여된 번호인데 번호가지고 이직을 결심하는 이유는 없을거라 생각했기에 제외.\n",
    "\n",
    "보조강사: 이런 설명 좋슴다."
   ]
  },
  {
   "cell_type": "markdown",
   "metadata": {},
   "source": [
    "NumCompaniesWorked(현재까지 근무한 회사 수) - \n",
    "\n",
    "근무한 회사 수가 많다면 연령도 높다고 판단할 수 있겠으나,   \n",
    "연령과 관련된 로컬을 짰는데 1달 후 이직과 같은 케이스를 생각해본다면  \n",
    "연령과의 관계성이 애매한 지표라 판단해 제외."
   ]
  },
  {
   "cell_type": "markdown",
   "metadata": {},
   "source": [
    "StockOptionLevel(스톡옵션 수준) - 제가 부족해서 이 옵션의 뜻을 몰라 제외했습니다..."
   ]
  },
  {
   "cell_type": "markdown",
   "metadata": {},
   "source": [
    "DistanceFromHome(집과 직장 사이의 거리) - 이 변수와 묶일 다른 변수를 찾지 못했습니다..."
   ]
  },
  {
   "cell_type": "code",
   "execution_count": null,
   "metadata": {},
   "outputs": [],
   "source": []
  },
  {
   "cell_type": "code",
   "execution_count": null,
   "metadata": {},
   "outputs": [],
   "source": []
  },
  {
   "cell_type": "code",
   "execution_count": null,
   "metadata": {},
   "outputs": [],
   "source": []
  },
  {
   "cell_type": "code",
   "execution_count": null,
   "metadata": {},
   "outputs": [],
   "source": []
  },
  {
   "cell_type": "code",
   "execution_count": 11,
   "metadata": {
    "scrolled": false
   },
   "outputs": [
    {
     "data": {
      "text/plain": [
       "(1250, 21)"
      ]
     },
     "execution_count": 11,
     "metadata": {},
     "output_type": "execute_result"
    }
   ],
   "source": [
    "x.shape"
   ]
  },
  {
   "cell_type": "markdown",
   "metadata": {},
   "source": [
    "DistanceFromHome / NumCompaniesWorked에 결측치 확인 가능."
   ]
  },
  {
   "cell_type": "code",
   "execution_count": 12,
   "metadata": {
    "id": "DDWeaDyRINBc"
   },
   "outputs": [],
   "source": [
    "# 범주형 데이터셋 가변수화\n",
    "cols = ['BusinessTravel','Department', 'Education', 'EducationField', 'EnvironmentSatisfaction', \n",
    "        'Gender', 'JobInvolvement', 'JobRole', 'JobSatisfaction', 'MaritalStatus', 'OverTime', \n",
    "        'RelationshipSatisfaction', 'WorkLifeBalance']\n",
    "x = pd.get_dummies(x,columns=cols, drop_first=False)"
   ]
  },
  {
   "cell_type": "code",
   "execution_count": 13,
   "metadata": {},
   "outputs": [
    {
     "data": {
      "text/plain": [
       "(1250, 61)"
      ]
     },
     "execution_count": 13,
     "metadata": {},
     "output_type": "execute_result"
    }
   ],
   "source": [
    "x.shape"
   ]
  },
  {
   "cell_type": "code",
   "execution_count": 14,
   "metadata": {
    "scrolled": true
   },
   "outputs": [
    {
     "data": {
      "text/html": [
       "<div>\n",
       "<style scoped>\n",
       "    .dataframe tbody tr th:only-of-type {\n",
       "        vertical-align: middle;\n",
       "    }\n",
       "\n",
       "    .dataframe tbody tr th {\n",
       "        vertical-align: top;\n",
       "    }\n",
       "\n",
       "    .dataframe thead th {\n",
       "        text-align: right;\n",
       "    }\n",
       "</style>\n",
       "<table border=\"1\" class=\"dataframe\">\n",
       "  <thead>\n",
       "    <tr style=\"text-align: right;\">\n",
       "      <th></th>\n",
       "      <th>Age</th>\n",
       "      <th>MonthlyIncome</th>\n",
       "      <th>PercentSalaryHike</th>\n",
       "      <th>TotalWorkingYears</th>\n",
       "      <th>TrainingTimesLastYear</th>\n",
       "      <th>YearsAtCompany</th>\n",
       "      <th>YearsInCurrentRole</th>\n",
       "      <th>YearsWithCurrManager</th>\n",
       "      <th>BusinessTravel_Non-Travel</th>\n",
       "      <th>BusinessTravel_Travel_Frequently</th>\n",
       "      <th>...</th>\n",
       "      <th>OverTime_No</th>\n",
       "      <th>OverTime_Yes</th>\n",
       "      <th>RelationshipSatisfaction_1</th>\n",
       "      <th>RelationshipSatisfaction_2</th>\n",
       "      <th>RelationshipSatisfaction_3</th>\n",
       "      <th>RelationshipSatisfaction_4</th>\n",
       "      <th>WorkLifeBalance_1</th>\n",
       "      <th>WorkLifeBalance_2</th>\n",
       "      <th>WorkLifeBalance_3</th>\n",
       "      <th>WorkLifeBalance_4</th>\n",
       "    </tr>\n",
       "  </thead>\n",
       "  <tbody>\n",
       "    <tr>\n",
       "      <th>0</th>\n",
       "      <td>0.357143</td>\n",
       "      <td>0.562507</td>\n",
       "      <td>0.000000</td>\n",
       "      <td>0.350</td>\n",
       "      <td>0.500000</td>\n",
       "      <td>0.325</td>\n",
       "      <td>0.500000</td>\n",
       "      <td>0.411765</td>\n",
       "      <td>0</td>\n",
       "      <td>0</td>\n",
       "      <td>...</td>\n",
       "      <td>1</td>\n",
       "      <td>0</td>\n",
       "      <td>0</td>\n",
       "      <td>0</td>\n",
       "      <td>0</td>\n",
       "      <td>1</td>\n",
       "      <td>0</td>\n",
       "      <td>0</td>\n",
       "      <td>0</td>\n",
       "      <td>1</td>\n",
       "    </tr>\n",
       "    <tr>\n",
       "      <th>1</th>\n",
       "      <td>0.404762</td>\n",
       "      <td>0.439863</td>\n",
       "      <td>0.000000</td>\n",
       "      <td>0.250</td>\n",
       "      <td>0.333333</td>\n",
       "      <td>0.050</td>\n",
       "      <td>0.111111</td>\n",
       "      <td>0.117647</td>\n",
       "      <td>0</td>\n",
       "      <td>1</td>\n",
       "      <td>...</td>\n",
       "      <td>1</td>\n",
       "      <td>0</td>\n",
       "      <td>0</td>\n",
       "      <td>0</td>\n",
       "      <td>1</td>\n",
       "      <td>0</td>\n",
       "      <td>0</td>\n",
       "      <td>0</td>\n",
       "      <td>1</td>\n",
       "      <td>0</td>\n",
       "    </tr>\n",
       "    <tr>\n",
       "      <th>2</th>\n",
       "      <td>0.571429</td>\n",
       "      <td>0.649763</td>\n",
       "      <td>0.142857</td>\n",
       "      <td>0.450</td>\n",
       "      <td>0.500000</td>\n",
       "      <td>0.325</td>\n",
       "      <td>0.388889</td>\n",
       "      <td>0.411765</td>\n",
       "      <td>0</td>\n",
       "      <td>0</td>\n",
       "      <td>...</td>\n",
       "      <td>1</td>\n",
       "      <td>0</td>\n",
       "      <td>0</td>\n",
       "      <td>1</td>\n",
       "      <td>0</td>\n",
       "      <td>0</td>\n",
       "      <td>0</td>\n",
       "      <td>0</td>\n",
       "      <td>0</td>\n",
       "      <td>1</td>\n",
       "    </tr>\n",
       "    <tr>\n",
       "      <th>3</th>\n",
       "      <td>0.666667</td>\n",
       "      <td>0.844602</td>\n",
       "      <td>0.857143</td>\n",
       "      <td>0.700</td>\n",
       "      <td>0.333333</td>\n",
       "      <td>0.650</td>\n",
       "      <td>0.833333</td>\n",
       "      <td>0.529412</td>\n",
       "      <td>0</td>\n",
       "      <td>0</td>\n",
       "      <td>...</td>\n",
       "      <td>1</td>\n",
       "      <td>0</td>\n",
       "      <td>1</td>\n",
       "      <td>0</td>\n",
       "      <td>0</td>\n",
       "      <td>0</td>\n",
       "      <td>0</td>\n",
       "      <td>0</td>\n",
       "      <td>1</td>\n",
       "      <td>0</td>\n",
       "    </tr>\n",
       "    <tr>\n",
       "      <th>4</th>\n",
       "      <td>0.500000</td>\n",
       "      <td>0.164192</td>\n",
       "      <td>0.500000</td>\n",
       "      <td>0.175</td>\n",
       "      <td>1.000000</td>\n",
       "      <td>0.050</td>\n",
       "      <td>0.055556</td>\n",
       "      <td>0.117647</td>\n",
       "      <td>0</td>\n",
       "      <td>1</td>\n",
       "      <td>...</td>\n",
       "      <td>1</td>\n",
       "      <td>0</td>\n",
       "      <td>0</td>\n",
       "      <td>0</td>\n",
       "      <td>0</td>\n",
       "      <td>1</td>\n",
       "      <td>0</td>\n",
       "      <td>0</td>\n",
       "      <td>1</td>\n",
       "      <td>0</td>\n",
       "    </tr>\n",
       "    <tr>\n",
       "      <th>...</th>\n",
       "      <td>...</td>\n",
       "      <td>...</td>\n",
       "      <td>...</td>\n",
       "      <td>...</td>\n",
       "      <td>...</td>\n",
       "      <td>...</td>\n",
       "      <td>...</td>\n",
       "      <td>...</td>\n",
       "      <td>...</td>\n",
       "      <td>...</td>\n",
       "      <td>...</td>\n",
       "      <td>...</td>\n",
       "      <td>...</td>\n",
       "      <td>...</td>\n",
       "      <td>...</td>\n",
       "      <td>...</td>\n",
       "      <td>...</td>\n",
       "      <td>...</td>\n",
       "      <td>...</td>\n",
       "      <td>...</td>\n",
       "      <td>...</td>\n",
       "    </tr>\n",
       "    <tr>\n",
       "      <th>1245</th>\n",
       "      <td>0.214286</td>\n",
       "      <td>0.160979</td>\n",
       "      <td>0.000000</td>\n",
       "      <td>0.175</td>\n",
       "      <td>0.500000</td>\n",
       "      <td>0.175</td>\n",
       "      <td>0.388889</td>\n",
       "      <td>0.411765</td>\n",
       "      <td>0</td>\n",
       "      <td>0</td>\n",
       "      <td>...</td>\n",
       "      <td>1</td>\n",
       "      <td>0</td>\n",
       "      <td>1</td>\n",
       "      <td>0</td>\n",
       "      <td>0</td>\n",
       "      <td>0</td>\n",
       "      <td>0</td>\n",
       "      <td>0</td>\n",
       "      <td>1</td>\n",
       "      <td>0</td>\n",
       "    </tr>\n",
       "    <tr>\n",
       "      <th>1246</th>\n",
       "      <td>0.261905</td>\n",
       "      <td>0.075935</td>\n",
       "      <td>0.500000</td>\n",
       "      <td>0.125</td>\n",
       "      <td>0.333333</td>\n",
       "      <td>0.025</td>\n",
       "      <td>0.000000</td>\n",
       "      <td>0.000000</td>\n",
       "      <td>0</td>\n",
       "      <td>0</td>\n",
       "      <td>...</td>\n",
       "      <td>1</td>\n",
       "      <td>0</td>\n",
       "      <td>1</td>\n",
       "      <td>0</td>\n",
       "      <td>0</td>\n",
       "      <td>0</td>\n",
       "      <td>0</td>\n",
       "      <td>1</td>\n",
       "      <td>0</td>\n",
       "      <td>0</td>\n",
       "    </tr>\n",
       "    <tr>\n",
       "      <th>1247</th>\n",
       "      <td>0.261905</td>\n",
       "      <td>0.191680</td>\n",
       "      <td>0.214286</td>\n",
       "      <td>0.100</td>\n",
       "      <td>0.500000</td>\n",
       "      <td>0.100</td>\n",
       "      <td>0.166667</td>\n",
       "      <td>0.117647</td>\n",
       "      <td>1</td>\n",
       "      <td>0</td>\n",
       "      <td>...</td>\n",
       "      <td>1</td>\n",
       "      <td>0</td>\n",
       "      <td>1</td>\n",
       "      <td>0</td>\n",
       "      <td>0</td>\n",
       "      <td>0</td>\n",
       "      <td>0</td>\n",
       "      <td>1</td>\n",
       "      <td>0</td>\n",
       "      <td>0</td>\n",
       "    </tr>\n",
       "    <tr>\n",
       "      <th>1248</th>\n",
       "      <td>0.595238</td>\n",
       "      <td>0.792786</td>\n",
       "      <td>0.785714</td>\n",
       "      <td>0.550</td>\n",
       "      <td>0.500000</td>\n",
       "      <td>0.425</td>\n",
       "      <td>0.722222</td>\n",
       "      <td>0.529412</td>\n",
       "      <td>0</td>\n",
       "      <td>0</td>\n",
       "      <td>...</td>\n",
       "      <td>0</td>\n",
       "      <td>1</td>\n",
       "      <td>0</td>\n",
       "      <td>0</td>\n",
       "      <td>1</td>\n",
       "      <td>0</td>\n",
       "      <td>0</td>\n",
       "      <td>0</td>\n",
       "      <td>1</td>\n",
       "      <td>0</td>\n",
       "    </tr>\n",
       "    <tr>\n",
       "      <th>1249</th>\n",
       "      <td>0.190476</td>\n",
       "      <td>0.179621</td>\n",
       "      <td>0.785714</td>\n",
       "      <td>0.200</td>\n",
       "      <td>0.333333</td>\n",
       "      <td>0.200</td>\n",
       "      <td>0.388889</td>\n",
       "      <td>0.411765</td>\n",
       "      <td>0</td>\n",
       "      <td>0</td>\n",
       "      <td>...</td>\n",
       "      <td>1</td>\n",
       "      <td>0</td>\n",
       "      <td>0</td>\n",
       "      <td>1</td>\n",
       "      <td>0</td>\n",
       "      <td>0</td>\n",
       "      <td>0</td>\n",
       "      <td>0</td>\n",
       "      <td>1</td>\n",
       "      <td>0</td>\n",
       "    </tr>\n",
       "  </tbody>\n",
       "</table>\n",
       "<p>1250 rows × 61 columns</p>\n",
       "</div>"
      ],
      "text/plain": [
       "           Age  MonthlyIncome  PercentSalaryHike  TotalWorkingYears  \\\n",
       "0     0.357143       0.562507           0.000000              0.350   \n",
       "1     0.404762       0.439863           0.000000              0.250   \n",
       "2     0.571429       0.649763           0.142857              0.450   \n",
       "3     0.666667       0.844602           0.857143              0.700   \n",
       "4     0.500000       0.164192           0.500000              0.175   \n",
       "...        ...            ...                ...                ...   \n",
       "1245  0.214286       0.160979           0.000000              0.175   \n",
       "1246  0.261905       0.075935           0.500000              0.125   \n",
       "1247  0.261905       0.191680           0.214286              0.100   \n",
       "1248  0.595238       0.792786           0.785714              0.550   \n",
       "1249  0.190476       0.179621           0.785714              0.200   \n",
       "\n",
       "      TrainingTimesLastYear  YearsAtCompany  YearsInCurrentRole  \\\n",
       "0                  0.500000           0.325            0.500000   \n",
       "1                  0.333333           0.050            0.111111   \n",
       "2                  0.500000           0.325            0.388889   \n",
       "3                  0.333333           0.650            0.833333   \n",
       "4                  1.000000           0.050            0.055556   \n",
       "...                     ...             ...                 ...   \n",
       "1245               0.500000           0.175            0.388889   \n",
       "1246               0.333333           0.025            0.000000   \n",
       "1247               0.500000           0.100            0.166667   \n",
       "1248               0.500000           0.425            0.722222   \n",
       "1249               0.333333           0.200            0.388889   \n",
       "\n",
       "      YearsWithCurrManager  BusinessTravel_Non-Travel  \\\n",
       "0                 0.411765                          0   \n",
       "1                 0.117647                          0   \n",
       "2                 0.411765                          0   \n",
       "3                 0.529412                          0   \n",
       "4                 0.117647                          0   \n",
       "...                    ...                        ...   \n",
       "1245              0.411765                          0   \n",
       "1246              0.000000                          0   \n",
       "1247              0.117647                          1   \n",
       "1248              0.529412                          0   \n",
       "1249              0.411765                          0   \n",
       "\n",
       "      BusinessTravel_Travel_Frequently  ...  OverTime_No  OverTime_Yes  \\\n",
       "0                                    0  ...            1             0   \n",
       "1                                    1  ...            1             0   \n",
       "2                                    0  ...            1             0   \n",
       "3                                    0  ...            1             0   \n",
       "4                                    1  ...            1             0   \n",
       "...                                ...  ...          ...           ...   \n",
       "1245                                 0  ...            1             0   \n",
       "1246                                 0  ...            1             0   \n",
       "1247                                 0  ...            1             0   \n",
       "1248                                 0  ...            0             1   \n",
       "1249                                 0  ...            1             0   \n",
       "\n",
       "      RelationshipSatisfaction_1  RelationshipSatisfaction_2  \\\n",
       "0                              0                           0   \n",
       "1                              0                           0   \n",
       "2                              0                           1   \n",
       "3                              1                           0   \n",
       "4                              0                           0   \n",
       "...                          ...                         ...   \n",
       "1245                           1                           0   \n",
       "1246                           1                           0   \n",
       "1247                           1                           0   \n",
       "1248                           0                           0   \n",
       "1249                           0                           1   \n",
       "\n",
       "      RelationshipSatisfaction_3  RelationshipSatisfaction_4  \\\n",
       "0                              0                           1   \n",
       "1                              1                           0   \n",
       "2                              0                           0   \n",
       "3                              0                           0   \n",
       "4                              0                           1   \n",
       "...                          ...                         ...   \n",
       "1245                           0                           0   \n",
       "1246                           0                           0   \n",
       "1247                           0                           0   \n",
       "1248                           1                           0   \n",
       "1249                           0                           0   \n",
       "\n",
       "      WorkLifeBalance_1  WorkLifeBalance_2  WorkLifeBalance_3  \\\n",
       "0                     0                  0                  0   \n",
       "1                     0                  0                  1   \n",
       "2                     0                  0                  0   \n",
       "3                     0                  0                  1   \n",
       "4                     0                  0                  1   \n",
       "...                 ...                ...                ...   \n",
       "1245                  0                  0                  1   \n",
       "1246                  0                  1                  0   \n",
       "1247                  0                  1                  0   \n",
       "1248                  0                  0                  1   \n",
       "1249                  0                  0                  1   \n",
       "\n",
       "      WorkLifeBalance_4  \n",
       "0                     1  \n",
       "1                     0  \n",
       "2                     1  \n",
       "3                     0  \n",
       "4                     0  \n",
       "...                 ...  \n",
       "1245                  0  \n",
       "1246                  0  \n",
       "1247                  0  \n",
       "1248                  0  \n",
       "1249                  0  \n",
       "\n",
       "[1250 rows x 61 columns]"
      ]
     },
     "execution_count": 14,
     "metadata": {},
     "output_type": "execute_result"
    }
   ],
   "source": [
    "# 수지형 데이터셋 정규화\n",
    "cols=['Age','MonthlyIncome',\n",
    "      'PercentSalaryHike', 'TotalWorkingYears', 'TrainingTimesLastYear', 'YearsAtCompany', \n",
    "      'YearsInCurrentRole', 'YearsWithCurrManager']\n",
    "\n",
    "for v in cols:\n",
    "    x[cols] = (x[cols] - x[cols].min()) / (x[cols].max() - x[cols].min())\n",
    "# 확인\n",
    "x"
   ]
  },
  {
   "cell_type": "code",
   "execution_count": 15,
   "metadata": {},
   "outputs": [
    {
     "data": {
      "text/plain": [
       "(1250, 61)"
      ]
     },
     "execution_count": 15,
     "metadata": {},
     "output_type": "execute_result"
    }
   ],
   "source": [
    "x.shape"
   ]
  },
  {
   "cell_type": "code",
   "execution_count": 16,
   "metadata": {
    "id": "YHtmiLfqINfQ"
   },
   "outputs": [],
   "source": [
    "# 결측치의 경우 이전에 드랍시켰기에 패스."
   ]
  },
  {
   "cell_type": "code",
   "execution_count": 17,
   "metadata": {},
   "outputs": [
    {
     "data": {
      "text/plain": [
       "Age                           0\n",
       "MonthlyIncome                 0\n",
       "PercentSalaryHike             0\n",
       "TotalWorkingYears             0\n",
       "TrainingTimesLastYear         0\n",
       "                             ..\n",
       "RelationshipSatisfaction_4    0\n",
       "WorkLifeBalance_1             0\n",
       "WorkLifeBalance_2             0\n",
       "WorkLifeBalance_3             0\n",
       "WorkLifeBalance_4             0\n",
       "Length: 61, dtype: int64"
      ]
     },
     "execution_count": 17,
     "metadata": {},
     "output_type": "execute_result"
    }
   ],
   "source": [
    "# 결측치 확인\n",
    "x.isna().sum()"
   ]
  },
  {
   "cell_type": "code",
   "execution_count": null,
   "metadata": {},
   "outputs": [],
   "source": []
  },
  {
   "cell_type": "code",
   "execution_count": 18,
   "metadata": {},
   "outputs": [],
   "source": [
    "# 학습, 테스트셋 분리\n",
    "from sklearn.model_selection import train_test_split\n",
    "x_train, x_test, y_train, y_test = train_test_split(x,y,test_size=0.2, random_state=2022)"
   ]
  },
  {
   "cell_type": "markdown",
   "metadata": {
    "id": "N4iFUU_hv3G5"
   },
   "source": [
    "## 모델링\n",
    "\n",
    "1. 전처리에서 제외한 feature를 제외한, 다른 feature는 반드시 모두 사용하셔야 합니다.\n",
    "2. locally connected layer를 최소 4개 이상 만드세요.\n",
    "3. 모델 구조 시각화까지 해주면 좋습니다.\n",
    "4. 학습 횟수는 최대 25번까지만.\n",
    "---\n",
    "### **locally하게 연결한 구성 의도를 반드시 상세하게 남겨주세요 (상황 가정을 해서라도!)** \n",
    "### **주석 역시 상세하게 남겨주세요**"
   ]
  },
  {
   "cell_type": "code",
   "execution_count": 19,
   "metadata": {},
   "outputs": [
    {
     "name": "stdout",
     "output_type": "stream",
     "text": [
      "<class 'pandas.core.frame.DataFrame'>\n",
      "RangeIndex: 1250 entries, 0 to 1249\n",
      "Data columns (total 61 columns):\n",
      " #   Column                             Non-Null Count  Dtype  \n",
      "---  ------                             --------------  -----  \n",
      " 0   Age                                1250 non-null   float64\n",
      " 1   MonthlyIncome                      1250 non-null   float64\n",
      " 2   PercentSalaryHike                  1250 non-null   float64\n",
      " 3   TotalWorkingYears                  1250 non-null   float64\n",
      " 4   TrainingTimesLastYear              1250 non-null   float64\n",
      " 5   YearsAtCompany                     1250 non-null   float64\n",
      " 6   YearsInCurrentRole                 1250 non-null   float64\n",
      " 7   YearsWithCurrManager               1250 non-null   float64\n",
      " 8   BusinessTravel_Non-Travel          1250 non-null   uint8  \n",
      " 9   BusinessTravel_Travel_Frequently   1250 non-null   uint8  \n",
      " 10  BusinessTravel_Travel_Rarely       1250 non-null   uint8  \n",
      " 11  Department_Human Resources         1250 non-null   uint8  \n",
      " 12  Department_Research & Development  1250 non-null   uint8  \n",
      " 13  Department_Sales                   1250 non-null   uint8  \n",
      " 14  Education_1                        1250 non-null   uint8  \n",
      " 15  Education_2                        1250 non-null   uint8  \n",
      " 16  Education_3                        1250 non-null   uint8  \n",
      " 17  Education_4                        1250 non-null   uint8  \n",
      " 18  Education_5                        1250 non-null   uint8  \n",
      " 19  EducationField_Human Resources     1250 non-null   uint8  \n",
      " 20  EducationField_Life Sciences       1250 non-null   uint8  \n",
      " 21  EducationField_Marketing           1250 non-null   uint8  \n",
      " 22  EducationField_Medical             1250 non-null   uint8  \n",
      " 23  EducationField_Other               1250 non-null   uint8  \n",
      " 24  EducationField_Technical Degree    1250 non-null   uint8  \n",
      " 25  EnvironmentSatisfaction_1          1250 non-null   uint8  \n",
      " 26  EnvironmentSatisfaction_2          1250 non-null   uint8  \n",
      " 27  EnvironmentSatisfaction_3          1250 non-null   uint8  \n",
      " 28  EnvironmentSatisfaction_4          1250 non-null   uint8  \n",
      " 29  Gender_Female                      1250 non-null   uint8  \n",
      " 30  Gender_Male                        1250 non-null   uint8  \n",
      " 31  JobInvolvement_1                   1250 non-null   uint8  \n",
      " 32  JobInvolvement_2                   1250 non-null   uint8  \n",
      " 33  JobInvolvement_3                   1250 non-null   uint8  \n",
      " 34  JobInvolvement_4                   1250 non-null   uint8  \n",
      " 35  JobRole_Healthcare Representative  1250 non-null   uint8  \n",
      " 36  JobRole_Human Resources            1250 non-null   uint8  \n",
      " 37  JobRole_Laboratory Technician      1250 non-null   uint8  \n",
      " 38  JobRole_Manager                    1250 non-null   uint8  \n",
      " 39  JobRole_Manufacturing Director     1250 non-null   uint8  \n",
      " 40  JobRole_Research Director          1250 non-null   uint8  \n",
      " 41  JobRole_Research Scientist         1250 non-null   uint8  \n",
      " 42  JobRole_Sales Executive            1250 non-null   uint8  \n",
      " 43  JobRole_Sales Representative       1250 non-null   uint8  \n",
      " 44  JobSatisfaction_1                  1250 non-null   uint8  \n",
      " 45  JobSatisfaction_2                  1250 non-null   uint8  \n",
      " 46  JobSatisfaction_3                  1250 non-null   uint8  \n",
      " 47  JobSatisfaction_4                  1250 non-null   uint8  \n",
      " 48  MaritalStatus_Divorced             1250 non-null   uint8  \n",
      " 49  MaritalStatus_Married              1250 non-null   uint8  \n",
      " 50  MaritalStatus_Single               1250 non-null   uint8  \n",
      " 51  OverTime_No                        1250 non-null   uint8  \n",
      " 52  OverTime_Yes                       1250 non-null   uint8  \n",
      " 53  RelationshipSatisfaction_1         1250 non-null   uint8  \n",
      " 54  RelationshipSatisfaction_2         1250 non-null   uint8  \n",
      " 55  RelationshipSatisfaction_3         1250 non-null   uint8  \n",
      " 56  RelationshipSatisfaction_4         1250 non-null   uint8  \n",
      " 57  WorkLifeBalance_1                  1250 non-null   uint8  \n",
      " 58  WorkLifeBalance_2                  1250 non-null   uint8  \n",
      " 59  WorkLifeBalance_3                  1250 non-null   uint8  \n",
      " 60  WorkLifeBalance_4                  1250 non-null   uint8  \n",
      "dtypes: float64(8), uint8(53)\n",
      "memory usage: 142.9 KB\n"
     ]
    }
   ],
   "source": [
    "x.info()"
   ]
  },
  {
   "cell_type": "markdown",
   "metadata": {
    "id": "TMl51PRuv6sw"
   },
   "source": [
    "### Locally connected layer를 구성하기 위한 feature 설정"
   ]
  },
  {
   "cell_type": "code",
   "execution_count": 20,
   "metadata": {},
   "outputs": [],
   "source": [
    "# 1. 만족도, 참여도, 균형도 등의 주관적 만족도가 영향을 끼칠 것이다.\n",
    "# 만족도들은 1~4까지 있는데 불만족12 / 만족34로 나눌 예정.\n",
    "#  \n",
    "tr_worst = x_train.loc[:,['EnvironmentSatisfaction_1','EnvironmentSatisfaction_2',\n",
    "                        'JobInvolvement_1','JobInvolvement_2',\n",
    "                        'JobSatisfaction_1','JobSatisfaction_2', \n",
    "                        'RelationshipSatisfaction_1', 'RelationshipSatisfaction_2',\n",
    "                        'WorkLifeBalance_1','WorkLifeBalance_2']]"
   ]
  },
  {
   "cell_type": "code",
   "execution_count": 21,
   "metadata": {},
   "outputs": [],
   "source": [
    "tr_best = x_train.loc[:,['EnvironmentSatisfaction_3','EnvironmentSatisfaction_4',\n",
    "                        'JobInvolvement_3','JobInvolvement_4',\n",
    "                        'JobSatisfaction_3','JobSatisfaction_4', \n",
    "                        'RelationshipSatisfaction_3', 'RelationshipSatisfaction_4',\n",
    "                        'WorkLifeBalance_3','WorkLifeBalance_4']]"
   ]
  },
  {
   "cell_type": "code",
   "execution_count": 22,
   "metadata": {},
   "outputs": [],
   "source": [
    "te_worst = x_test.loc[:,['EnvironmentSatisfaction_1','EnvironmentSatisfaction_2',\n",
    "                        'JobInvolvement_1','JobInvolvement_2',\n",
    "                        'JobSatisfaction_1','JobSatisfaction_2', \n",
    "                        'RelationshipSatisfaction_1', 'RelationshipSatisfaction_2',\n",
    "                        'WorkLifeBalance_1','WorkLifeBalance_2']]"
   ]
  },
  {
   "cell_type": "code",
   "execution_count": 23,
   "metadata": {},
   "outputs": [],
   "source": [
    "te_best = x_test.loc[:,['EnvironmentSatisfaction_3','EnvironmentSatisfaction_4',\n",
    "                        'JobInvolvement_3','JobInvolvement_4',\n",
    "                        'JobSatisfaction_3','JobSatisfaction_4', \n",
    "                        'RelationshipSatisfaction_3', 'RelationshipSatisfaction_4',\n",
    "                        'WorkLifeBalance_3','WorkLifeBalance_4']]"
   ]
  },
  {
   "cell_type": "markdown",
   "metadata": {},
   "source": [
    "EnvironmentSatisfaction: 근무환경에 대한 만족도 (1-Low 2-Good 3-Excellent 4-Outstanding)  \n",
    "\n",
    "  JobInvolvement: 직무 적극성, 참여도 (1-Low 2-Medium 3-High 4-Very High)  \n",
    "  \n",
    "JobSatisfaction: 직무 만족도 (1-Low 2-Medium 3-High 4-Very High)  \n",
    "\n",
    "RelationshipSatisfaction: 동료와의 관계 만족도 (1-Low 2-Medium 3-High 4-Very High)  \n",
    "\n",
    "WorkLifeBalance: 워라밸, 일과 삶의 균형도 (1-Bad 2-Good 3-Better 4-Best)"
   ]
  },
  {
   "cell_type": "code",
   "execution_count": 24,
   "metadata": {},
   "outputs": [],
   "source": [
    "# 2. 임금과 이직은 연관이 있을 것이다.\n",
    "# 임금 관련된 변수 2개를 묶을 예정."
   ]
  },
  {
   "cell_type": "code",
   "execution_count": 25,
   "metadata": {},
   "outputs": [],
   "source": [
    "tr_money = x_train.loc[:,['MonthlyIncome','PercentSalaryHike']]"
   ]
  },
  {
   "cell_type": "code",
   "execution_count": 26,
   "metadata": {},
   "outputs": [],
   "source": [
    "te_money = x_test.loc[:,['MonthlyIncome','PercentSalaryHike']]"
   ]
  },
  {
   "cell_type": "code",
   "execution_count": 27,
   "metadata": {},
   "outputs": [],
   "source": [
    "# 3. 성별과 결혼상태는 관련이 있을 것이다.\n",
    "# 이혼의 경우 싱글에 묶음.\n",
    "tr_marry_male = x_train.loc[:,['Gender_Male','MaritalStatus_Married']]"
   ]
  },
  {
   "cell_type": "code",
   "execution_count": 28,
   "metadata": {},
   "outputs": [],
   "source": [
    "te_marry_male = x_test.loc[:,['Gender_Male','MaritalStatus_Married']]"
   ]
  },
  {
   "cell_type": "code",
   "execution_count": 29,
   "metadata": {},
   "outputs": [],
   "source": [
    "tr_marry_female = x_train.loc[:,['Gender_Female','MaritalStatus_Married']]\n",
    "te_marry_female = x_test.loc[:,['Gender_Female','MaritalStatus_Married']]"
   ]
  },
  {
   "cell_type": "code",
   "execution_count": 30,
   "metadata": {},
   "outputs": [],
   "source": [
    "tr_nonmarry_male = x_train.loc[:,['Gender_Male','MaritalStatus_Divorced','MaritalStatus_Single']]\n",
    "te_nonmarry_male = x_test.loc[:,['Gender_Male','MaritalStatus_Divorced','MaritalStatus_Single']]"
   ]
  },
  {
   "cell_type": "code",
   "execution_count": 31,
   "metadata": {},
   "outputs": [],
   "source": [
    "tr_nonmarry_female = x_train.loc[:,['Gender_Female','MaritalStatus_Divorced','MaritalStatus_Single']]\n",
    "te_nonmarry_female = x_test.loc[:,['Gender_Female','MaritalStatus_Divorced','MaritalStatus_Single']]"
   ]
  },
  {
   "cell_type": "code",
   "execution_count": 32,
   "metadata": {},
   "outputs": [],
   "source": [
    "# 4. 나이와 근무연수가 많을수록 이직률을 낮출 것이다.\n",
    "# 연수와 관련된 변수들을 묶을 예정.\n",
    "tr_year = x_train.loc[:,['Age','TotalWorkingYears','YearsAtCompany','YearsInCurrentRole','YearsWithCurrManager']]\n",
    "te_year = x_test.loc[:,['Age','TotalWorkingYears','YearsAtCompany','YearsInCurrentRole','YearsWithCurrManager']]"
   ]
  },
  {
   "cell_type": "code",
   "execution_count": 33,
   "metadata": {},
   "outputs": [],
   "source": [
    "# 5. 부서와 직무는 연관성이 있을 것이다.\n",
    "# 직무 만족도는 다른 만족도와 묶였기에 부서와 연결됨.\n",
    "tr_dep = x_train.loc[:,['Department_Human Resources','Department_Research & Development','Department_Sales',\n",
    "                       'JobRole_Healthcare Representative','JobRole_Human Resources','JobRole_Laboratory Technician',\n",
    "                       'JobRole_Manager','JobRole_Manufacturing Director','JobRole_Research Scientist',\n",
    "                       'JobRole_Sales Executive','JobRole_Sales Representative']]\n",
    "te_dep = x_test.loc[:,['Department_Human Resources','Department_Research & Development','Department_Sales',\n",
    "                       'JobRole_Healthcare Representative','JobRole_Human Resources','JobRole_Laboratory Technician',\n",
    "                       'JobRole_Manager','JobRole_Manufacturing Director','JobRole_Research Scientist',\n",
    "                       'JobRole_Sales Executive','JobRole_Sales Representative']]"
   ]
  },
  {
   "cell_type": "code",
   "execution_count": 34,
   "metadata": {},
   "outputs": [],
   "source": [
    "# 6. 교육수준과 전공을 통한 본인 직무와 연관성에 따라 영향이 있을 것이다.\n",
    "tr_edu = x_train.loc[:,['Education_1','Education_2','Education_3','Education_4','Education_5',\n",
    "                       'EducationField_Human Resources','EducationField_Life Sciences','EducationField_Marketing',\n",
    "                       'EducationField_Medical','EducationField_Other','EducationField_Technical Degree']]\n",
    "te_edu = x_test.loc[:,['Education_1','Education_2','Education_3','Education_4','Education_5',\n",
    "                       'EducationField_Human Resources','EducationField_Life Sciences','EducationField_Marketing',\n",
    "                       'EducationField_Medical','EducationField_Other','EducationField_Technical Degree']]"
   ]
  },
  {
   "cell_type": "code",
   "execution_count": 35,
   "metadata": {},
   "outputs": [],
   "source": [
    "# 7. 추가근무 성격을 띄는 것은 영향을 끼칠 것이다.\n",
    "# OverTime(야근), BusinessTravel(출장), TrainingTimesLastYear(전년 훈련 횟수)\n",
    "tr_over = x_train.loc[:,['TrainingTimesLastYear','OverTime_No','OverTime_Yes',\n",
    "                         'BusinessTravel_Non-Travel','BusinessTravel_Travel_Frequently','BusinessTravel_Travel_Rarely']]"
   ]
  },
  {
   "cell_type": "code",
   "execution_count": null,
   "metadata": {},
   "outputs": [],
   "source": []
  },
  {
   "cell_type": "markdown",
   "metadata": {
    "id": "nbtw3H1vIX9i"
   },
   "source": [
    "# 가독성을 높이기 위한 재설정."
   ]
  },
  {
   "cell_type": "markdown",
   "metadata": {},
   "source": [
    "## train"
   ]
  },
  {
   "cell_type": "code",
   "execution_count": 36,
   "metadata": {},
   "outputs": [],
   "source": [
    "# 1번 만족\n",
    "tr_worst = x_train.loc[:,['EnvironmentSatisfaction_1','EnvironmentSatisfaction_2',\n",
    "                        'JobInvolvement_1','JobInvolvement_2',\n",
    "                        'JobSatisfaction_1','JobSatisfaction_2', \n",
    "                        'RelationshipSatisfaction_1', 'RelationshipSatisfaction_2',\n",
    "                        'WorkLifeBalance_1','WorkLifeBalance_2']]\n",
    "tr_best = x_train.loc[:,['EnvironmentSatisfaction_3','EnvironmentSatisfaction_4',\n",
    "                        'JobInvolvement_3','JobInvolvement_4',\n",
    "                        'JobSatisfaction_3','JobSatisfaction_4', \n",
    "                        'RelationshipSatisfaction_3', 'RelationshipSatisfaction_4',\n",
    "                        'WorkLifeBalance_3','WorkLifeBalance_4']]\n",
    "\n",
    "# 2번 임금\n",
    "tr_money = x_train.loc[:,['MonthlyIncome','PercentSalaryHike']]\n",
    "\n",
    "# 3번 결혼여부\n",
    "tr_marry_male = x_train.loc[:,['Gender_Male','MaritalStatus_Married']]\n",
    "tr_marry_female = x_train.loc[:,['Gender_Female','MaritalStatus_Married']]\n",
    "tr_nonmarry_male = x_train.loc[:,['Gender_Male','MaritalStatus_Divorced','MaritalStatus_Single']]\n",
    "tr_nonmarry_female = x_train.loc[:,['Gender_Female','MaritalStatus_Divorced','MaritalStatus_Single']]\n",
    "\n",
    "# 4번 근무연수\n",
    "tr_year = x_train.loc[:,['Age','TotalWorkingYears','YearsAtCompany','YearsInCurrentRole','YearsWithCurrManager']]\n",
    "\n",
    "# 5번 부서, 직무\n",
    "tr_dep = x_train.loc[:,['Department_Human Resources','Department_Research & Development','Department_Sales',\n",
    "                       'JobRole_Healthcare Representative','JobRole_Human Resources','JobRole_Laboratory Technician',\n",
    "                       'JobRole_Manager','JobRole_Manufacturing Director','JobRole_Research Scientist',\n",
    "                       'JobRole_Sales Executive','JobRole_Sales Representative']]\n",
    "\n",
    "# 6번 교육 수준\n",
    "tr_edu = x_train.loc[:,['Education_1','Education_2','Education_3','Education_4','Education_5',\n",
    "                       'EducationField_Human Resources','EducationField_Life Sciences','EducationField_Marketing',\n",
    "                       'EducationField_Medical','EducationField_Other','EducationField_Technical Degree']]\n",
    "\n",
    "# 7번 추가 근무\n",
    "tr_over = x_train.loc[:,['TrainingTimesLastYear','OverTime_No','OverTime_Yes',\n",
    "                         'BusinessTravel_Non-Travel','BusinessTravel_Travel_Frequently','BusinessTravel_Travel_Rarely']]"
   ]
  },
  {
   "cell_type": "code",
   "execution_count": null,
   "metadata": {},
   "outputs": [],
   "source": []
  },
  {
   "cell_type": "code",
   "execution_count": 37,
   "metadata": {},
   "outputs": [
    {
     "data": {
      "text/plain": [
       "((1000, 10), (1000, 10))"
      ]
     },
     "execution_count": 37,
     "metadata": {},
     "output_type": "execute_result"
    }
   ],
   "source": [
    "tr_worst.shape, tr_best.shape"
   ]
  },
  {
   "cell_type": "code",
   "execution_count": 38,
   "metadata": {},
   "outputs": [
    {
     "data": {
      "text/plain": [
       "(1000, 2)"
      ]
     },
     "execution_count": 38,
     "metadata": {},
     "output_type": "execute_result"
    }
   ],
   "source": [
    "tr_money.shape"
   ]
  },
  {
   "cell_type": "code",
   "execution_count": 39,
   "metadata": {},
   "outputs": [
    {
     "data": {
      "text/plain": [
       "((1000, 2), (1000, 2), (1000, 3), (1000, 3))"
      ]
     },
     "execution_count": 39,
     "metadata": {},
     "output_type": "execute_result"
    }
   ],
   "source": [
    "tr_marry_male.shape, tr_marry_female.shape, tr_nonmarry_male.shape, tr_nonmarry_female.shape"
   ]
  },
  {
   "cell_type": "code",
   "execution_count": 40,
   "metadata": {},
   "outputs": [
    {
     "data": {
      "text/plain": [
       "(1000, 5)"
      ]
     },
     "execution_count": 40,
     "metadata": {},
     "output_type": "execute_result"
    }
   ],
   "source": [
    "tr_year.shape"
   ]
  },
  {
   "cell_type": "code",
   "execution_count": 41,
   "metadata": {},
   "outputs": [
    {
     "data": {
      "text/plain": [
       "(1000, 11)"
      ]
     },
     "execution_count": 41,
     "metadata": {},
     "output_type": "execute_result"
    }
   ],
   "source": [
    "tr_dep.shape"
   ]
  },
  {
   "cell_type": "code",
   "execution_count": 42,
   "metadata": {},
   "outputs": [
    {
     "data": {
      "text/plain": [
       "(1000, 11)"
      ]
     },
     "execution_count": 42,
     "metadata": {},
     "output_type": "execute_result"
    }
   ],
   "source": [
    "tr_edu.shape"
   ]
  },
  {
   "cell_type": "code",
   "execution_count": 43,
   "metadata": {},
   "outputs": [
    {
     "data": {
      "text/plain": [
       "(1000, 6)"
      ]
     },
     "execution_count": 43,
     "metadata": {},
     "output_type": "execute_result"
    }
   ],
   "source": [
    "tr_over.shape"
   ]
  },
  {
   "cell_type": "code",
   "execution_count": 44,
   "metadata": {},
   "outputs": [
    {
     "data": {
      "text/plain": [
       "(1000,)"
      ]
     },
     "execution_count": 44,
     "metadata": {},
     "output_type": "execute_result"
    }
   ],
   "source": [
    "y_train.shape"
   ]
  },
  {
   "cell_type": "markdown",
   "metadata": {},
   "source": [
    "## test"
   ]
  },
  {
   "cell_type": "code",
   "execution_count": 45,
   "metadata": {},
   "outputs": [],
   "source": [
    "# 1번 만족\n",
    "te_worst = x_test.loc[:,['EnvironmentSatisfaction_1','EnvironmentSatisfaction_2',\n",
    "                        'JobInvolvement_1','JobInvolvement_2',\n",
    "                        'JobSatisfaction_1','JobSatisfaction_2', \n",
    "                        'RelationshipSatisfaction_1', 'RelationshipSatisfaction_2',\n",
    "                        'WorkLifeBalance_1','WorkLifeBalance_2']]\n",
    "te_best = x_test.loc[:,['EnvironmentSatisfaction_3','EnvironmentSatisfaction_4',\n",
    "                        'JobInvolvement_3','JobInvolvement_4',\n",
    "                        'JobSatisfaction_3','JobSatisfaction_4', \n",
    "                        'RelationshipSatisfaction_3', 'RelationshipSatisfaction_4',\n",
    "                        'WorkLifeBalance_3','WorkLifeBalance_4']]\n",
    "\n",
    "# 2번 임금\n",
    "te_money = x_test.loc[:,['MonthlyIncome','PercentSalaryHike']]\n",
    "\n",
    "# 3번 결혼여부\n",
    "te_marry_male = x_test.loc[:,['Gender_Male','MaritalStatus_Married']]\n",
    "te_marry_female = x_test.loc[:,['Gender_Female','MaritalStatus_Married']]\n",
    "te_nonmarry_male = x_test.loc[:,['Gender_Male','MaritalStatus_Divorced','MaritalStatus_Single']]\n",
    "te_nonmarry_female = x_test.loc[:,['Gender_Female','MaritalStatus_Divorced','MaritalStatus_Single']]\n",
    "\n",
    "# 4번 근무연수\n",
    "te_year = x_test.loc[:,['Age','TotalWorkingYears','YearsAtCompany','YearsInCurrentRole','YearsWithCurrManager']]\n",
    "\n",
    "# 5번 부서, 직무\n",
    "te_dep = x_test.loc[:,['Department_Human Resources','Department_Research & Development','Department_Sales',\n",
    "                       'JobRole_Healthcare Representative','JobRole_Human Resources','JobRole_Laboratory Technician',\n",
    "                       'JobRole_Manager','JobRole_Manufacturing Director','JobRole_Research Scientist',\n",
    "                       'JobRole_Sales Executive','JobRole_Sales Representative']]\n",
    "\n",
    "# 6번 교육 수준\n",
    "te_edu = x_test.loc[:,['Education_1','Education_2','Education_3','Education_4','Education_5',\n",
    "                       'EducationField_Human Resources','EducationField_Life Sciences','EducationField_Marketing',\n",
    "                       'EducationField_Medical','EducationField_Other','EducationField_Technical Degree']]\n",
    "# 7번 추가 근무\n",
    "te_over = x_test.loc[:,['TrainingTimesLastYear','OverTime_No','OverTime_Yes',\n",
    "                         'BusinessTravel_Non-Travel','BusinessTravel_Travel_Frequently','BusinessTravel_Travel_Rarely']]"
   ]
  },
  {
   "cell_type": "markdown",
   "metadata": {
    "id": "II2DSumywT4b"
   },
   "source": [
    "### 모델 코드 작성"
   ]
  },
  {
   "cell_type": "code",
   "execution_count": 46,
   "metadata": {
    "id": "_sQ3EMVuIZyk"
   },
   "outputs": [],
   "source": [
    "# 텐서플로우 관련 라이브러리\n",
    "import tensorflow as tf\n",
    "from tensorflow import keras\n",
    "\n",
    "from tensorflow.keras.models import Model\n",
    "from tensorflow.keras.layers import Input, Dense, Add, Concatenate\n",
    "\n",
    "from tensorflow.keras.callbacks import EarlyStopping\n",
    "from tensorflow.keras.utils import plot_model"
   ]
  },
  {
   "cell_type": "code",
   "execution_count": 47,
   "metadata": {
    "id": "WC6AZQlgIZkx"
   },
   "outputs": [],
   "source": [
    "# 자 , 이런식으로 이슈가 났을 때. 'input_8이 뭐징 싶으면 이제 이름을 줘야합니다.'\n",
    "\n",
    "# 1번 세션 클리어\n",
    "keras.backend.clear_session()\n",
    "\n",
    "# 2번 모델의 레이어 엮기.\n",
    "# 히든레이어의 경우 64로 통일함.\n",
    "\n",
    "# 1번 로컬\n",
    "il_worst = Input(shape=(10,), name='worst')\n",
    "hl_worst = Dense(64, activation='relu',name='hl_worst')(il_worst)\n",
    "\n",
    "il_best = Input(shape=(10,), name='best')\n",
    "hl_best = Dense(64, activation='relu',name='hl_best')(il_best)\n",
    "\n",
    "# 2번 로컬\n",
    "il_money = Input(shape=(2,), name='money')\n",
    "hl_money = Dense(64, activation='relu',name='hl_money')(il_money)\n",
    "\n",
    "# 3번 로컬\n",
    "il_marry_male = Input(shape=(2,), name='mm')\n",
    "hl_marry_male = Dense(64, activation='relu',name='hl_marry_male')(il_marry_male)\n",
    "\n",
    "il_marry_female = Input(shape=(2,), name='mf')\n",
    "hl_marry_female = Dense(64, activation='relu',name='hl_marry_female')(il_marry_female)\n",
    "\n",
    "il_nonmarry_male = Input(shape=(3,), name='nm')\n",
    "hl_nonmarry_male = Dense(64, activation='relu',name='hl_nonmarry_male')(il_marry_male)\n",
    "\n",
    "il_nonmarry_female = Input(shape=(3,), name='nf')\n",
    "hl_nonmarry_female = Dense(64, activation='relu',name='hl_nonmarry_female')(il_marry_female)\n",
    "\n",
    "# 4번 로컬\n",
    "il_year = Input(shape=(5,), name='year')\n",
    "hl_year = Dense(64, activation='relu',name='hl_year')(il_year)\n",
    "\n",
    "# 5번 로컬\n",
    "# il_dep = Input(shape=(10,), name='dep')\n",
    "il_dep = Input(shape=(11,), name='dep_new')\n",
    "hl_dep = Dense(64, activation='relu',name='hl_dep')(il_dep)\n",
    "\n",
    "# 6번 교육\n",
    "# il_edu = Input(shape=(10,), name='edu')\n",
    "il_edu = Input(shape=(11,), name='edu_new')\n",
    "hl_edu = Dense(64, activation='relu',name='hl_edu')(il_edu)\n",
    "\n",
    "# 7번 추가근무\n",
    "il_over = Input(shape=(6,), name='over')\n",
    "hl_over = Dense(64,activation='relu',name='hl_over')(il_over)\n"
   ]
  },
  {
   "cell_type": "code",
   "execution_count": 48,
   "metadata": {},
   "outputs": [],
   "source": [
    "# Add로 합치기.\n",
    "al = Add()([hl_worst,hl_best,hl_money,hl_marry_male,hl_marry_female,\n",
    "            hl_nonmarry_male,hl_nonmarry_female,hl_year,hl_dep,hl_edu,hl_over])"
   ]
  },
  {
   "cell_type": "code",
   "execution_count": 49,
   "metadata": {},
   "outputs": [
    {
     "name": "stdout",
     "output_type": "stream",
     "text": [
      "(None, 11)\n"
     ]
    },
    {
     "data": {
      "text/plain": [
       "(1000, 11)"
      ]
     },
     "execution_count": 49,
     "metadata": {},
     "output_type": "execute_result"
    }
   ],
   "source": [
    "# 점검 부분\n",
    "\n",
    "print(il_dep.shape)\n",
    "\n",
    "tr_dep.shape # 범인 여깄슴다\n"
   ]
  },
  {
   "cell_type": "code",
   "execution_count": 50,
   "metadata": {},
   "outputs": [
    {
     "data": {
      "text/plain": [
       "<KerasTensor: shape=(None, 64) dtype=float32 (created by layer 'add')>"
      ]
     },
     "execution_count": 50,
     "metadata": {},
     "output_type": "execute_result"
    }
   ],
   "source": [
    "al"
   ]
  },
  {
   "cell_type": "code",
   "execution_count": 51,
   "metadata": {},
   "outputs": [],
   "source": [
    "# 전체 변수를 이용한 il 만들기.\n",
    "# il = Input(shape=(61,))\n",
    "# cl = Concatenate()([il_worst,il_best,il_money,il_marry_male,il_marry_female,il_nonmarry_male,il_nonmarry_female,il_year,il_dep,il_edu,il_over])\n",
    "hl = Dense(64, activation='relu')(al)"
   ]
  },
  {
   "cell_type": "code",
   "execution_count": 52,
   "metadata": {},
   "outputs": [
    {
     "data": {
      "text/plain": [
       "(1000,)"
      ]
     },
     "execution_count": 52,
     "metadata": {},
     "output_type": "execute_result"
    }
   ],
   "source": [
    "y_train.shape"
   ]
  },
  {
   "cell_type": "code",
   "execution_count": 53,
   "metadata": {},
   "outputs": [],
   "source": [
    "# 아웃풋 레이어\n",
    "ol = Dense(1,activation='sigmoid')(hl)"
   ]
  },
  {
   "cell_type": "code",
   "execution_count": 54,
   "metadata": {},
   "outputs": [],
   "source": [
    "# 모델의 시작과 끝 지정\n",
    "# 찾았따!\n",
    "# model = Model([hl_worst,hl_best,hl_money,hl_marry_male,hl_marry_female,hl_nonmarry_male,hl_nonmarry_female,hl_year,hl_dep,hl_edu,hl_over],ol)\n",
    "model = Model([il_worst, il_best, il_money, il_marry_male, il_marry_female, il_nonmarry_male,\n",
    "              il_nonmarry_female, il_year, il_dep, il_edu, il_over], ol, name='New_try')"
   ]
  },
  {
   "cell_type": "code",
   "execution_count": 55,
   "metadata": {},
   "outputs": [],
   "source": [
    "# 컴파일\n",
    "model.compile(loss='binary_crossentropy',metrics='accuracy',optimizer='adam')"
   ]
  },
  {
   "cell_type": "code",
   "execution_count": 56,
   "metadata": {},
   "outputs": [
    {
     "name": "stdout",
     "output_type": "stream",
     "text": [
      "Model: \"New_try\"\n",
      "__________________________________________________________________________________________________\n",
      " Layer (type)                   Output Shape         Param #     Connected to                     \n",
      "==================================================================================================\n",
      " worst (InputLayer)             [(None, 10)]         0           []                               \n",
      "                                                                                                  \n",
      " best (InputLayer)              [(None, 10)]         0           []                               \n",
      "                                                                                                  \n",
      " money (InputLayer)             [(None, 2)]          0           []                               \n",
      "                                                                                                  \n",
      " mm (InputLayer)                [(None, 2)]          0           []                               \n",
      "                                                                                                  \n",
      " mf (InputLayer)                [(None, 2)]          0           []                               \n",
      "                                                                                                  \n",
      " year (InputLayer)              [(None, 5)]          0           []                               \n",
      "                                                                                                  \n",
      " dep_new (InputLayer)           [(None, 11)]         0           []                               \n",
      "                                                                                                  \n",
      " edu_new (InputLayer)           [(None, 11)]         0           []                               \n",
      "                                                                                                  \n",
      " over (InputLayer)              [(None, 6)]          0           []                               \n",
      "                                                                                                  \n",
      " hl_worst (Dense)               (None, 64)           704         ['worst[0][0]']                  \n",
      "                                                                                                  \n",
      " hl_best (Dense)                (None, 64)           704         ['best[0][0]']                   \n",
      "                                                                                                  \n",
      " hl_money (Dense)               (None, 64)           192         ['money[0][0]']                  \n",
      "                                                                                                  \n",
      " hl_marry_male (Dense)          (None, 64)           192         ['mm[0][0]']                     \n",
      "                                                                                                  \n",
      " hl_marry_female (Dense)        (None, 64)           192         ['mf[0][0]']                     \n",
      "                                                                                                  \n",
      " hl_nonmarry_male (Dense)       (None, 64)           192         ['mm[0][0]']                     \n",
      "                                                                                                  \n",
      " hl_nonmarry_female (Dense)     (None, 64)           192         ['mf[0][0]']                     \n",
      "                                                                                                  \n",
      " hl_year (Dense)                (None, 64)           384         ['year[0][0]']                   \n",
      "                                                                                                  \n",
      " hl_dep (Dense)                 (None, 64)           768         ['dep_new[0][0]']                \n",
      "                                                                                                  \n",
      " hl_edu (Dense)                 (None, 64)           768         ['edu_new[0][0]']                \n",
      "                                                                                                  \n",
      " hl_over (Dense)                (None, 64)           448         ['over[0][0]']                   \n",
      "                                                                                                  \n",
      " add (Add)                      (None, 64)           0           ['hl_worst[0][0]',               \n",
      "                                                                  'hl_best[0][0]',                \n",
      "                                                                  'hl_money[0][0]',               \n",
      "                                                                  'hl_marry_male[0][0]',          \n",
      "                                                                  'hl_marry_female[0][0]',        \n",
      "                                                                  'hl_nonmarry_male[0][0]',       \n",
      "                                                                  'hl_nonmarry_female[0][0]',     \n",
      "                                                                  'hl_year[0][0]',                \n",
      "                                                                  'hl_dep[0][0]',                 \n",
      "                                                                  'hl_edu[0][0]',                 \n",
      "                                                                  'hl_over[0][0]']                \n",
      "                                                                                                  \n",
      " dense (Dense)                  (None, 64)           4160        ['add[0][0]']                    \n",
      "                                                                                                  \n",
      " nm (InputLayer)                [(None, 3)]          0           []                               \n",
      "                                                                                                  \n",
      " nf (InputLayer)                [(None, 3)]          0           []                               \n",
      "                                                                                                  \n",
      " dense_1 (Dense)                (None, 1)            65          ['dense[0][0]']                  \n",
      "                                                                                                  \n",
      "==================================================================================================\n",
      "Total params: 8,961\n",
      "Trainable params: 8,961\n",
      "Non-trainable params: 0\n",
      "__________________________________________________________________________________________________\n"
     ]
    }
   ],
   "source": [
    "# 양념\n",
    "model.summary()"
   ]
  },
  {
   "cell_type": "markdown",
   "metadata": {},
   "source": [
    "어우, 하면 척이시네. 감사합니당. \n",
    "인풋레이어 대신 히든레이어를 인풋으로 연결을 하셨었네요.\n",
    "\n",
    "사소한 실수입니다. 우린 이런걸로 감점 크게 절대로 안합니다.\n",
    "\n",
    "이거빼곤 뭐 흠잡을게 전혀 없는데용\n",
    "\n",
    "답변 : 네...\n",
    "    \n",
    "    아쉬워하지마세용.  실제 실무에선 이런게.... 의외로 정말 많이 흔해요. 실제 개발업무에서도\n",
    "    이 에러가 왜 안잡힐까 1주일 날밤을 까도... 지나가던 막내가 와서는\n",
    "    '형 이거 여기 이상한데용. 왜 인풋이 이거에요?'\n",
    "    \n",
    "    흔합니다.  이걸 겪어보고 안겪어보고 차이는 실무에서 빛을 발할겁니다.\n",
    "    \n",
    "    좋은경험하신거에용 ㅇㅇㅋㅋㅋ"
   ]
  },
  {
   "cell_type": "markdown",
   "metadata": {
    "id": "MWkg0Oogw5W5"
   },
   "source": [
    "### 모델 구조 시각화"
   ]
  },
  {
   "cell_type": "code",
   "execution_count": 57,
   "metadata": {
    "id": "yVf1ZIhWIbRe"
   },
   "outputs": [
    {
     "data": {
      "image/png": "[encoded data removed]",
      "text/plain": [
       "<IPython.core.display.Image object>"
      ]
     },
     "execution_count": 57,
     "metadata": {},
     "output_type": "execute_result"
    }
   ],
   "source": [
    "# 모델 시각화\n",
    "from tensorflow.keras.utils import plot_model\n",
    "plot_model(model,show_shapes=True)"
   ]
  },
  {
   "cell_type": "code",
   "execution_count": null,
   "metadata": {
    "id": "NE8LlcChIbJw"
   },
   "outputs": [],
   "source": []
  },
  {
   "cell_type": "markdown",
   "metadata": {
    "id": "fLnughPGxKr4"
   },
   "source": [
    "### 모델 학습"
   ]
  },
  {
   "cell_type": "code",
   "execution_count": 58,
   "metadata": {
    "id": "aXPOYO-jIf94"
   },
   "outputs": [],
   "source": [
    "from tensorflow.keras.callbacks import EarlyStopping\n",
    "es = EarlyStopping(monitor='val_loss',min_delta=0,patience=30, verbose=1, restore_best_weights=True)\n",
    "\n",
    "# 얼리스토핑도 잘 거셨슴다. 근데, epoch가 25회일때, patience가 30인 것은 고민을 해보셔야 해용.\n",
    "# 무슨일이.... '일어나지 않을겁니다'"
   ]
  },
  {
   "cell_type": "code",
   "execution_count": 59,
   "metadata": {},
   "outputs": [],
   "source": [
    "inpu = [tr_worst, tr_best, tr_money, tr_marry_male, tr_marry_female,\n",
    "        tr_nonmarry_male, tr_nonmarry_female, tr_year, tr_dep, tr_edu, tr_over]"
   ]
  },
  {
   "cell_type": "code",
   "execution_count": 60,
   "metadata": {},
   "outputs": [
    {
     "name": "stdout",
     "output_type": "stream",
     "text": [
      "Epoch 1/25\n",
      "27/27 [==============================] - 1s 12ms/step - loss: 0.4437 - accuracy: 0.8400 - val_loss: 0.4044 - val_accuracy: 0.8467\n",
      "Epoch 2/25\n",
      "27/27 [==============================] - 0s 3ms/step - loss: 0.4046 - accuracy: 0.8424 - val_loss: 0.3876 - val_accuracy: 0.8467\n",
      "Epoch 3/25\n",
      "27/27 [==============================] - 0s 3ms/step - loss: 0.3809 - accuracy: 0.8435 - val_loss: 0.3895 - val_accuracy: 0.8533\n",
      "Epoch 4/25\n",
      "27/27 [==============================] - 0s 3ms/step - loss: 0.3619 - accuracy: 0.8459 - val_loss: 0.3589 - val_accuracy: 0.8467\n",
      "Epoch 5/25\n",
      "27/27 [==============================] - 0s 3ms/step - loss: 0.3416 - accuracy: 0.8529 - val_loss: 0.3504 - val_accuracy: 0.8533\n",
      "Epoch 6/25\n",
      "27/27 [==============================] - 0s 4ms/step - loss: 0.3305 - accuracy: 0.8671 - val_loss: 0.3429 - val_accuracy: 0.8800\n",
      "Epoch 7/25\n",
      "27/27 [==============================] - 0s 3ms/step - loss: 0.3175 - accuracy: 0.8753 - val_loss: 0.3378 - val_accuracy: 0.8933\n",
      "Epoch 8/25\n",
      "27/27 [==============================] - 0s 3ms/step - loss: 0.3125 - accuracy: 0.8824 - val_loss: 0.3492 - val_accuracy: 0.9000\n",
      "Epoch 9/25\n",
      "27/27 [==============================] - 0s 3ms/step - loss: 0.3072 - accuracy: 0.8824 - val_loss: 0.3368 - val_accuracy: 0.9000\n",
      "Epoch 10/25\n",
      "27/27 [==============================] - 0s 3ms/step - loss: 0.2980 - accuracy: 0.8824 - val_loss: 0.3379 - val_accuracy: 0.9000\n",
      "Epoch 11/25\n",
      "27/27 [==============================] - 0s 3ms/step - loss: 0.2895 - accuracy: 0.8929 - val_loss: 0.3372 - val_accuracy: 0.8933\n",
      "Epoch 12/25\n",
      "27/27 [==============================] - 0s 3ms/step - loss: 0.2871 - accuracy: 0.8894 - val_loss: 0.3694 - val_accuracy: 0.8533\n",
      "Epoch 13/25\n",
      "27/27 [==============================] - 0s 3ms/step - loss: 0.2770 - accuracy: 0.8941 - val_loss: 0.3553 - val_accuracy: 0.8667\n",
      "Epoch 14/25\n",
      "27/27 [==============================] - 0s 3ms/step - loss: 0.2789 - accuracy: 0.8812 - val_loss: 0.3468 - val_accuracy: 0.8867\n",
      "Epoch 15/25\n",
      "27/27 [==============================] - 0s 4ms/step - loss: 0.2687 - accuracy: 0.8953 - val_loss: 0.3377 - val_accuracy: 0.9000\n",
      "Epoch 16/25\n",
      "27/27 [==============================] - 0s 4ms/step - loss: 0.2694 - accuracy: 0.8953 - val_loss: 0.3790 - val_accuracy: 0.8533\n",
      "Epoch 17/25\n",
      "27/27 [==============================] - 0s 3ms/step - loss: 0.2636 - accuracy: 0.8929 - val_loss: 0.3484 - val_accuracy: 0.8800\n",
      "Epoch 18/25\n",
      "27/27 [==============================] - 0s 3ms/step - loss: 0.2660 - accuracy: 0.8941 - val_loss: 0.3475 - val_accuracy: 0.8933\n",
      "Epoch 19/25\n",
      "27/27 [==============================] - 0s 4ms/step - loss: 0.2647 - accuracy: 0.8941 - val_loss: 0.3515 - val_accuracy: 0.8800\n",
      "Epoch 20/25\n",
      "27/27 [==============================] - 0s 3ms/step - loss: 0.2510 - accuracy: 0.9000 - val_loss: 0.3461 - val_accuracy: 0.8933\n",
      "Epoch 21/25\n",
      "27/27 [==============================] - 0s 3ms/step - loss: 0.2520 - accuracy: 0.9035 - val_loss: 0.3464 - val_accuracy: 0.9000\n",
      "Epoch 22/25\n",
      "27/27 [==============================] - 0s 4ms/step - loss: 0.2415 - accuracy: 0.9106 - val_loss: 0.3530 - val_accuracy: 0.8933\n",
      "Epoch 23/25\n",
      "27/27 [==============================] - 0s 4ms/step - loss: 0.2399 - accuracy: 0.9059 - val_loss: 0.3544 - val_accuracy: 0.8867\n",
      "Epoch 24/25\n",
      "27/27 [==============================] - 0s 3ms/step - loss: 0.2385 - accuracy: 0.9035 - val_loss: 0.3540 - val_accuracy: 0.9067\n",
      "Epoch 25/25\n",
      "27/27 [==============================] - 0s 3ms/step - loss: 0.2324 - accuracy: 0.9153 - val_loss: 0.3496 - val_accuracy: 0.8933\n"
     ]
    },
    {
     "data": {
      "text/plain": [
       "<keras.callbacks.History at 0x132ced98190>"
      ]
     },
     "execution_count": 60,
     "metadata": {},
     "output_type": "execute_result"
    }
   ],
   "source": [
    "model.fit(inpu,y_train,validation_split=0.15,epochs=25,verbose=1,callbacks=[es])"
   ]
  },
  {
   "cell_type": "code",
   "execution_count": 61,
   "metadata": {},
   "outputs": [
    {
     "data": {
      "text/plain": [
       "'지금 인풋8을 찾고 있어용. 조금만 기다려주세요-  이름을 줘도 안뜨는걸 보니 또 재밌네용'"
      ]
     },
     "execution_count": 61,
     "metadata": {},
     "output_type": "execute_result"
    }
   ],
   "source": [
    "'''지금 인풋8을 찾고 있어용. 조금만 기다려주세요-  이름을 줘도 안뜨는걸 보니 또 재밌네용'''"
   ]
  },
  {
   "cell_type": "code",
   "execution_count": null,
   "metadata": {},
   "outputs": [],
   "source": []
  },
  {
   "cell_type": "code",
   "execution_count": null,
   "metadata": {},
   "outputs": [],
   "source": []
  },
  {
   "cell_type": "markdown",
   "metadata": {
    "id": "mpmzUPy81EU4"
   },
   "source": [
    "### 모델 예측"
   ]
  },
  {
   "cell_type": "code",
   "execution_count": 62,
   "metadata": {},
   "outputs": [],
   "source": [
    "list = [te_worst, te_best, te_money, te_marry_male, te_marry_female, te_nonmarry_male, te_nonmarry_female, te_year, te_dep, te_edu, te_over]"
   ]
  },
  {
   "cell_type": "code",
   "execution_count": 63,
   "metadata": {
    "id": "_vqttmIaIhOM"
   },
   "outputs": [
    {
     "data": {
      "text/plain": [
       "array([0.16834432, 0.8775723 , 0.00609902, 0.8082671 , 0.11320859,\n",
       "       0.00559825, 0.04070216, 0.08200204, 0.18017182, 0.7804973 ,\n",
       "       0.12361568, 0.00824147], dtype=float32)"
      ]
     },
     "execution_count": 63,
     "metadata": {},
     "output_type": "execute_result"
    }
   ],
   "source": [
    "y_pred = model.predict(list)\n",
    "\n",
    "y_pred[:12].reshape(-1)"
   ]
  },
  {
   "cell_type": "code",
   "execution_count": 64,
   "metadata": {
    "id": "tyc-c9WqIhKP"
   },
   "outputs": [],
   "source": [
    "# y_pred값 0 아니면 1로 변환.\n",
    "for idx, val in enumerate(y_pred) :\n",
    "    if y_pred[idx] >= 0.5 :\n",
    "        y_pred[idx] = 1\n",
    "    else :\n",
    "        y_pred[idx] = 0"
   ]
  },
  {
   "cell_type": "code",
   "execution_count": 65,
   "metadata": {},
   "outputs": [
    {
     "data": {
      "text/plain": [
       "array([0., 1., 0., 1., 0., 0., 0., 0., 0., 1., 0., 0.], dtype=float32)"
      ]
     },
     "execution_count": 65,
     "metadata": {},
     "output_type": "execute_result"
    }
   ],
   "source": [
    "y_pred[:12].reshape(-1)"
   ]
  },
  {
   "cell_type": "code",
   "execution_count": null,
   "metadata": {},
   "outputs": [],
   "source": []
  },
  {
   "cell_type": "code",
   "execution_count": 66,
   "metadata": {},
   "outputs": [],
   "source": [
    "from sklearn.metrics import classification_report, confusion_matrix"
   ]
  },
  {
   "cell_type": "code",
   "execution_count": 67,
   "metadata": {},
   "outputs": [
    {
     "name": "stdout",
     "output_type": "stream",
     "text": [
      "              precision    recall  f1-score   support\n",
      "\n",
      "          No       0.88      0.94      0.91       207\n",
      "         Yes       0.59      0.40      0.47        43\n",
      "\n",
      "    accuracy                           0.85       250\n",
      "   macro avg       0.73      0.67      0.69       250\n",
      "weighted avg       0.83      0.85      0.84       250\n",
      "\n"
     ]
    }
   ],
   "source": [
    "print( classification_report(y_test, y_pred, target_names=['No' , 'Yes']) )"
   ]
  },
  {
   "cell_type": "code",
   "execution_count": 68,
   "metadata": {},
   "outputs": [
    {
     "data": {
      "image/png": "[encoded data removed]",
      "text/plain": [
       "<Figure size 432x288 with 2 Axes>"
      ]
     },
     "metadata": {
      "needs_background": "light"
     },
     "output_type": "display_data"
    }
   ],
   "source": [
    "sns.heatmap(confusion_matrix(y_test, y_pred), annot=True, \n",
    "cmap='Blues', fmt='g') \n",
    "plt.show()"
   ]
  },
  {
   "cell_type": "markdown",
   "metadata": {},
   "source": [
    "정확도 = 0.85 \n",
    "예측 정답 정밀도 = 0.59  \n",
    "실제 이직 재현율 = 0.40\n",
    "\n",
    "잔류 정답 정밀도 = 0.94"
   ]
  },
  {
   "cell_type": "markdown",
   "metadata": {
    "id": "5hu2kSt06YhE"
   },
   "source": [
    "## 평가\n",
    "\n",
    "1. 모델의 정확도를 기재하시오.\n",
    "2. 이직이라 예측한 것 중 실제로 이직한 비율을 구하시오.\n",
    "3. 실제 이직 데이터 중 모델이 이직이라 예측한 것의 비율을 구하시오.\n",
    "4. 남는다고 예측한 것 중 실제로 남아있는 비율을 구하시오.\n",
    "---\n",
    "### hidden layer 2개를 사용한 multilayer perceptron 구조와 비교하시오."
   ]
  },
  {
   "cell_type": "code",
   "execution_count": 69,
   "metadata": {
    "id": "tE6VNEQ9Ilmg"
   },
   "outputs": [],
   "source": [
    "# 1번 세션 클리어\n",
    "keras.backend.clear_session()\n",
    "\n",
    "# 2번 모델의 레이어 엮기.\n",
    "# 히든레이어의 경우 64로 통일함.\n",
    "\n",
    "# 1번 로컬\n",
    "il_worst = Input(shape=(10,))\n",
    "hl_worst = Dense(64, activation='relu',name='hl_worst')(il_worst)\n",
    "\n",
    "il_best = Input(shape=(10,))\n",
    "hl_best = Dense(64, activation='relu',name='hl_best')(il_best)\n",
    "\n",
    "# 2번 로컬\n",
    "il_money = Input(shape=(2,))\n",
    "hl_money = Dense(64, activation='relu',name='hl_money')(il_money)\n",
    "\n",
    "# 3번 로컬\n",
    "il_marry_male = Input(shape=(2,))\n",
    "hl_marry_male = Dense(64, activation='relu',name='hl_marry_male')(il_marry_male)\n",
    "\n",
    "il_marry_female = Input(shape=(2,))\n",
    "hl_marry_female = Dense(64, activation='relu',name='hl_marry_female')(il_marry_female)\n",
    "\n",
    "il_nonmarry_male = Input(shape=(3,))\n",
    "hl_nonmarry_male = Dense(64, activation='relu',name='hl_nonmarry_male')(il_marry_male)\n",
    "\n",
    "il_nonmarry_female = Input(shape=(3,))\n",
    "hl_nonmarry_female = Dense(64, activation='relu',name='hl_nonmarry_female')(il_marry_female)\n",
    "\n",
    "# 4번 로컬\n",
    "il_year = Input(shape=(5,))\n",
    "hl_year = Dense(64, activation='relu',name='hl_year')(il_year)\n",
    "\n",
    "# 5번 로컬\n",
    "il_dep = Input(shape=(11,))\n",
    "hl_dep = Dense(64, activation='relu',name='hl_dep')(il_dep)\n",
    "\n",
    "# 6번 교육\n",
    "il_edu = Input(shape=(11,))\n",
    "hl_edu = Dense(64, activation='relu',name='hl_edu')(il_edu)\n",
    "\n",
    "# 7번 추가근무\n",
    "il_over = Input(shape=(6,))\n",
    "hl_over = Dense(64,activation='relu',name='hl_over')(il_over)"
   ]
  },
  {
   "cell_type": "code",
   "execution_count": 70,
   "metadata": {},
   "outputs": [],
   "source": [
    "al = Add()([hl_worst,hl_best,hl_money,hl_marry_male,hl_marry_female,\n",
    "            hl_nonmarry_male,hl_nonmarry_female,hl_year,hl_dep,hl_edu,hl_over])"
   ]
  },
  {
   "cell_type": "code",
   "execution_count": 71,
   "metadata": {},
   "outputs": [],
   "source": [
    "# 전체 변수를 이용한 il 만들기.\n",
    "hl = Dense(64, activation='relu')(al)\n",
    "hl = Dense(64, activation='relu')(hl)\n",
    "hl = Dense(64, activation='relu')(hl)"
   ]
  },
  {
   "cell_type": "code",
   "execution_count": 72,
   "metadata": {},
   "outputs": [],
   "source": [
    "# 아웃풋 레이어\n",
    "ol = Dense(1,activation='sigmoid')(hl)"
   ]
  },
  {
   "cell_type": "code",
   "execution_count": 73,
   "metadata": {},
   "outputs": [],
   "source": [
    "# 모델의 시작과 끝 지정\n",
    "model = Model([il_worst, il_best, il_money, il_marry_male, il_marry_female, il_nonmarry_male,\n",
    "              il_nonmarry_female, il_year, il_dep, il_edu, il_over], ol)"
   ]
  },
  {
   "cell_type": "code",
   "execution_count": 74,
   "metadata": {},
   "outputs": [],
   "source": [
    "# 컴파일\n",
    "model.compile(loss='binary_crossentropy',metrics='accuracy',optimizer='adam')"
   ]
  },
  {
   "cell_type": "code",
   "execution_count": null,
   "metadata": {},
   "outputs": [],
   "source": []
  },
  {
   "cell_type": "code",
   "execution_count": 75,
   "metadata": {},
   "outputs": [],
   "source": [
    "inpu = [tr_worst, tr_best, \n",
    "        tr_money, \n",
    "        tr_marry_male, tr_marry_female, tr_nonmarry_male, tr_nonmarry_female, \n",
    "        tr_year, \n",
    "        tr_dep, \n",
    "        tr_edu, \n",
    "        tr_over]"
   ]
  },
  {
   "cell_type": "code",
   "execution_count": 76,
   "metadata": {},
   "outputs": [
    {
     "name": "stdout",
     "output_type": "stream",
     "text": [
      "Epoch 1/25\n",
      "27/27 [==============================] - 1s 11ms/step - loss: 0.5135 - accuracy: 0.7859 - val_loss: 0.4240 - val_accuracy: 0.8467\n",
      "Epoch 2/25\n",
      "27/27 [==============================] - 0s 4ms/step - loss: 0.4284 - accuracy: 0.8424 - val_loss: 0.4168 - val_accuracy: 0.8467\n",
      "Epoch 3/25\n",
      "27/27 [==============================] - 0s 4ms/step - loss: 0.4070 - accuracy: 0.8424 - val_loss: 0.3989 - val_accuracy: 0.8467\n",
      "Epoch 4/25\n",
      "27/27 [==============================] - 0s 4ms/step - loss: 0.3793 - accuracy: 0.8424 - val_loss: 0.3754 - val_accuracy: 0.8467\n",
      "Epoch 5/25\n",
      "27/27 [==============================] - 0s 4ms/step - loss: 0.3560 - accuracy: 0.8518 - val_loss: 0.3754 - val_accuracy: 0.8600\n",
      "Epoch 6/25\n",
      "27/27 [==============================] - 0s 4ms/step - loss: 0.3428 - accuracy: 0.8612 - val_loss: 0.3947 - val_accuracy: 0.8133\n",
      "Epoch 7/25\n",
      "27/27 [==============================] - 0s 4ms/step - loss: 0.3215 - accuracy: 0.8671 - val_loss: 0.3596 - val_accuracy: 0.8533\n",
      "Epoch 8/25\n",
      "27/27 [==============================] - 0s 4ms/step - loss: 0.3003 - accuracy: 0.8882 - val_loss: 0.3552 - val_accuracy: 0.8733\n",
      "Epoch 9/25\n",
      "27/27 [==============================] - 0s 4ms/step - loss: 0.2949 - accuracy: 0.8859 - val_loss: 0.3569 - val_accuracy: 0.8800\n",
      "Epoch 10/25\n",
      "27/27 [==============================] - 0s 4ms/step - loss: 0.2818 - accuracy: 0.8894 - val_loss: 0.3537 - val_accuracy: 0.9000\n",
      "Epoch 11/25\n",
      "27/27 [==============================] - 0s 4ms/step - loss: 0.2679 - accuracy: 0.9035 - val_loss: 0.4299 - val_accuracy: 0.8600\n",
      "Epoch 12/25\n",
      "27/27 [==============================] - 0s 4ms/step - loss: 0.3012 - accuracy: 0.8800 - val_loss: 0.3346 - val_accuracy: 0.8800\n",
      "Epoch 13/25\n",
      "27/27 [==============================] - 0s 4ms/step - loss: 0.2686 - accuracy: 0.9000 - val_loss: 0.3753 - val_accuracy: 0.8667\n",
      "Epoch 14/25\n",
      "27/27 [==============================] - 0s 4ms/step - loss: 0.2524 - accuracy: 0.9047 - val_loss: 0.3835 - val_accuracy: 0.8400\n",
      "Epoch 15/25\n",
      "27/27 [==============================] - 0s 4ms/step - loss: 0.2472 - accuracy: 0.9059 - val_loss: 0.4301 - val_accuracy: 0.8067\n",
      "Epoch 16/25\n",
      "27/27 [==============================] - 0s 4ms/step - loss: 0.2454 - accuracy: 0.8965 - val_loss: 0.3862 - val_accuracy: 0.8800\n",
      "Epoch 17/25\n",
      "27/27 [==============================] - 0s 4ms/step - loss: 0.2302 - accuracy: 0.9141 - val_loss: 0.3786 - val_accuracy: 0.9000\n",
      "Epoch 18/25\n",
      "27/27 [==============================] - 0s 3ms/step - loss: 0.2222 - accuracy: 0.9188 - val_loss: 0.4198 - val_accuracy: 0.8333\n",
      "Epoch 19/25\n",
      "27/27 [==============================] - 0s 4ms/step - loss: 0.2089 - accuracy: 0.9306 - val_loss: 0.3927 - val_accuracy: 0.8867\n",
      "Epoch 20/25\n",
      "27/27 [==============================] - 0s 4ms/step - loss: 0.2109 - accuracy: 0.9259 - val_loss: 0.4309 - val_accuracy: 0.8467\n",
      "Epoch 21/25\n",
      "27/27 [==============================] - 0s 4ms/step - loss: 0.1865 - accuracy: 0.9435 - val_loss: 0.4220 - val_accuracy: 0.8733\n",
      "Epoch 22/25\n",
      "27/27 [==============================] - 0s 3ms/step - loss: 0.1749 - accuracy: 0.9424 - val_loss: 0.4674 - val_accuracy: 0.8867\n",
      "Epoch 23/25\n",
      "27/27 [==============================] - 0s 4ms/step - loss: 0.1863 - accuracy: 0.9282 - val_loss: 0.4634 - val_accuracy: 0.8400\n",
      "Epoch 24/25\n",
      "27/27 [==============================] - 0s 4ms/step - loss: 0.1669 - accuracy: 0.9424 - val_loss: 0.4429 - val_accuracy: 0.8800\n",
      "Epoch 25/25\n",
      "27/27 [==============================] - 0s 4ms/step - loss: 0.1710 - accuracy: 0.9341 - val_loss: 0.4884 - val_accuracy: 0.8600\n"
     ]
    },
    {
     "data": {
      "text/plain": [
       "<keras.callbacks.History at 0x132d12847f0>"
      ]
     },
     "execution_count": 76,
     "metadata": {},
     "output_type": "execute_result"
    }
   ],
   "source": [
    "model.fit(inpu,y_train,validation_split=0.15,epochs=25,verbose=1,callbacks=[es])"
   ]
  },
  {
   "cell_type": "code",
   "execution_count": 79,
   "metadata": {},
   "outputs": [],
   "source": [
    "list = [te_worst, te_best, te_money, te_marry_male, te_marry_female, te_nonmarry_male, te_nonmarry_female, te_year, te_dep, te_edu, te_over]"
   ]
  },
  {
   "cell_type": "code",
   "execution_count": 80,
   "metadata": {},
   "outputs": [
    {
     "data": {
      "text/plain": [
       "array([0.03229558, 0.9947007 , 0.01503977, 0.9935442 , 0.23934513,\n",
       "       0.00540671, 0.00522482, 0.02448443, 0.07476792, 0.9284812 ,\n",
       "       0.20000955, 0.02968746], dtype=float32)"
      ]
     },
     "execution_count": 80,
     "metadata": {},
     "output_type": "execute_result"
    }
   ],
   "source": [
    "y_pred = model.predict(list)\n",
    "\n",
    "y_pred[:12].reshape(-1)"
   ]
  },
  {
   "cell_type": "code",
   "execution_count": 81,
   "metadata": {},
   "outputs": [],
   "source": [
    "# y_pred값 0 아니면 1로 변환.\n",
    "for idx, val in enumerate(y_pred) :\n",
    "    if y_pred[idx] >= 0.5 :\n",
    "        y_pred[idx] = 1\n",
    "    else :\n",
    "        y_pred[idx] = 0"
   ]
  },
  {
   "cell_type": "code",
   "execution_count": 82,
   "metadata": {
    "scrolled": false
   },
   "outputs": [
    {
     "name": "stdout",
     "output_type": "stream",
     "text": [
      "              precision    recall  f1-score   support\n",
      "\n",
      "          No       0.89      0.92      0.90       207\n",
      "         Yes       0.54      0.47      0.50        43\n",
      "\n",
      "    accuracy                           0.84       250\n",
      "   macro avg       0.72      0.69      0.70       250\n",
      "weighted avg       0.83      0.84      0.84       250\n",
      "\n"
     ]
    }
   ],
   "source": [
    "print( classification_report(y_test, y_pred, target_names=['No' , 'Yes']) )"
   ]
  },
  {
   "cell_type": "code",
   "execution_count": 83,
   "metadata": {},
   "outputs": [
    {
     "data": {
      "image/png": "[encoded data removed]",
      "text/plain": [
       "<Figure size 432x288 with 2 Axes>"
      ]
     },
     "metadata": {
      "needs_background": "light"
     },
     "output_type": "display_data"
    }
   ],
   "source": [
    "sns.heatmap(confusion_matrix(y_test, y_pred), annot=True, \n",
    "cmap='Blues', fmt='g') \n",
    "plt.show()"
   ]
  },
  {
   "cell_type": "markdown",
   "metadata": {},
   "source": [
    "## MLP 결과"
   ]
  },
  {
   "cell_type": "markdown",
   "metadata": {},
   "source": [
    "정확도 = 0.84\n",
    "예측 정답 정밀도 = 0.54  \n",
    "실제 이직 재현율 = 0.47\n",
    "\n",
    "잔류 정답 정밀도 = 0.92"
   ]
  },
  {
   "cell_type": "markdown",
   "metadata": {},
   "source": [
    "기존 모델과 비교했을 때  \n",
    "정확도, 이직 정밀도의 부분은 떨어졌지만,  \n",
    "이직 재현율과 잔류 정밀도 부분의 성능은 향상된 모습"
   ]
  },
  {
   "cell_type": "code",
   "execution_count": null,
   "metadata": {},
   "outputs": [],
   "source": []
  },
  {
   "cell_type": "markdown",
   "metadata": {},
   "source": [
    "## 특징 분류"
   ]
  },
  {
   "cell_type": "markdown",
   "metadata": {},
   "source": [
    "#### 1. 만족도가 높을수록 이직률이 적을거야.\n",
    "* 근무 환경에 대한 만족도, 직무 적극성, 참여도\n",
    "* 직무 만족도, 동료와의 관계, 워라밸\n",
    "\n",
    "#### 2. 경제적으로 안정되면 이직률이 적을거야.\n",
    "* 월급\n",
    "* 전년대비 급여 인상율\n",
    "\n",
    "#### 3. 남성 미혼자, 여성 기혼자일수록 높을거야.\n",
    "* 성별\n",
    "* 결혼여부\n",
    "\n",
    "#### 4. 연수(나이)가 많을수록 이직률이 적을거야.\n",
    "* 나이, 총 근무 연수, 현 직장 근무 연수, 현 직무 연수\n",
    "* 현 팀장과 근무 연수\n",
    "\n",
    "#### 5. 부서별로 이직률이 다를거야.\n",
    "* 부서, 직무\n",
    "\n",
    "#### 6. 교육수준이 높을수록 이직률이 높을거야.\n",
    "* 교육수준, 전공\n",
    "\n",
    "#### 7. 직무 외 근무가 많을수록 이직률이 높을거야.\n",
    "* 야근, 출장 빈도, 전년 교육 훈련 횟수"
   ]
  },
  {
   "cell_type": "markdown",
   "metadata": {},
   "source": []
  },
  {
   "cell_type": "markdown",
   "metadata": {},
   "source": []
  },
  {
   "cell_type": "markdown",
   "metadata": {},
   "source": []
  },
  {
   "cell_type": "markdown",
   "metadata": {},
   "source": []
  },
  {
   "cell_type": "markdown",
   "metadata": {},
   "source": []
  }
 ],
 "metadata": {
  "colab": {
   "collapsed_sections": [],
   "name": "3_6_직원 이직 여부 예측.ipynb",
   "provenance": [],
   "toc_visible": true
  },
  "kernelspec": {
   "display_name": "Python 3",
   "language": "python",
   "name": "python3"
  },
  "language_info": {
   "codemirror_mode": {
    "name": "ipython",
    "version": 3
   },
   "file_extension": ".py",
   "mimetype": "text/x-python",
   "name": "python",
   "nbconvert_exporter": "python",
   "pygments_lexer": "ipython3",
   "version": "3.8.8"
  }
 },
 "nbformat": 4,
 "nbformat_minor": 1
}
